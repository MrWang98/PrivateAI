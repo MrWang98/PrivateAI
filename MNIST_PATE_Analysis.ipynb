{
  "nbformat": 4,
  "nbformat_minor": 0,
  "metadata": {
    "kernelspec": {
      "display_name": "Python [conda env:my_env]",
      "language": "python",
      "name": "conda-env-my_env-py"
    },
    "language_info": {
      "codemirror_mode": {
        "name": "ipython",
        "version": 3
      },
      "file_extension": ".py",
      "mimetype": "text/x-python",
      "name": "python",
      "nbconvert_exporter": "python",
      "pygments_lexer": "ipython3",
      "version": "3.7.3"
    },
    "colab": {
      "name": "MNIST_PATE_Analysis.ipynb",
      "provenance": [],
      "collapsed_sections": [],
      "include_colab_link": true
    },
    "accelerator": "GPU",
    "widgets": {
      "application/vnd.jupyter.widget-state+json": {
        "968a735bd0dc460197ba9031298b2301": {
          "model_module": "@jupyter-widgets/controls",
          "model_name": "HBoxModel",
          "state": {
            "_view_name": "HBoxView",
            "_dom_classes": [],
            "_model_name": "HBoxModel",
            "_view_module": "@jupyter-widgets/controls",
            "_model_module_version": "1.5.0",
            "_view_count": null,
            "_view_module_version": "1.5.0",
            "box_style": "",
            "layout": "IPY_MODEL_497b9d00b18b47ad99c1fdea371f6af4",
            "_model_module": "@jupyter-widgets/controls",
            "children": [
              "IPY_MODEL_d86280b892d7448baa0607724fd7f157",
              "IPY_MODEL_23e3c4cc3e5141f59f365b22c7ac4b90"
            ]
          }
        },
        "497b9d00b18b47ad99c1fdea371f6af4": {
          "model_module": "@jupyter-widgets/base",
          "model_name": "LayoutModel",
          "state": {
            "_view_name": "LayoutView",
            "grid_template_rows": null,
            "right": null,
            "justify_content": null,
            "_view_module": "@jupyter-widgets/base",
            "overflow": null,
            "_model_module_version": "1.2.0",
            "_view_count": null,
            "flex_flow": null,
            "width": null,
            "min_width": null,
            "border": null,
            "align_items": null,
            "bottom": null,
            "_model_module": "@jupyter-widgets/base",
            "top": null,
            "grid_column": null,
            "overflow_y": null,
            "overflow_x": null,
            "grid_auto_flow": null,
            "grid_area": null,
            "grid_template_columns": null,
            "flex": null,
            "_model_name": "LayoutModel",
            "justify_items": null,
            "grid_row": null,
            "max_height": null,
            "align_content": null,
            "visibility": null,
            "align_self": null,
            "height": null,
            "min_height": null,
            "padding": null,
            "grid_auto_rows": null,
            "grid_gap": null,
            "max_width": null,
            "order": null,
            "_view_module_version": "1.2.0",
            "grid_template_areas": null,
            "object_position": null,
            "object_fit": null,
            "grid_auto_columns": null,
            "margin": null,
            "display": null,
            "left": null
          }
        },
        "d86280b892d7448baa0607724fd7f157": {
          "model_module": "@jupyter-widgets/controls",
          "model_name": "IntProgressModel",
          "state": {
            "_view_name": "ProgressView",
            "style": "IPY_MODEL_61e9266df94c4017b5e9c0ae8f93122a",
            "_dom_classes": [],
            "description": "",
            "_model_name": "IntProgressModel",
            "bar_style": "info",
            "max": 1,
            "_view_module": "@jupyter-widgets/controls",
            "_model_module_version": "1.5.0",
            "value": 1,
            "_view_count": null,
            "_view_module_version": "1.5.0",
            "orientation": "horizontal",
            "min": 0,
            "description_tooltip": null,
            "_model_module": "@jupyter-widgets/controls",
            "layout": "IPY_MODEL_72549e908deb4a558fc3a7f924d3b7a4"
          }
        },
        "23e3c4cc3e5141f59f365b22c7ac4b90": {
          "model_module": "@jupyter-widgets/controls",
          "model_name": "HTMLModel",
          "state": {
            "_view_name": "HTMLView",
            "style": "IPY_MODEL_3a688ef6b3394ba1bdcb9143e378f4b8",
            "_dom_classes": [],
            "description": "",
            "_model_name": "HTMLModel",
            "placeholder": "​",
            "_view_module": "@jupyter-widgets/controls",
            "_model_module_version": "1.5.0",
            "value": " 9920512/? [00:20&lt;00:00, 8463971.97it/s]",
            "_view_count": null,
            "_view_module_version": "1.5.0",
            "description_tooltip": null,
            "_model_module": "@jupyter-widgets/controls",
            "layout": "IPY_MODEL_6e217045b53e4ae8854a382d0e8f3893"
          }
        },
        "61e9266df94c4017b5e9c0ae8f93122a": {
          "model_module": "@jupyter-widgets/controls",
          "model_name": "ProgressStyleModel",
          "state": {
            "_view_name": "StyleView",
            "_model_name": "ProgressStyleModel",
            "description_width": "initial",
            "_view_module": "@jupyter-widgets/base",
            "_model_module_version": "1.5.0",
            "_view_count": null,
            "_view_module_version": "1.2.0",
            "bar_color": null,
            "_model_module": "@jupyter-widgets/controls"
          }
        },
        "72549e908deb4a558fc3a7f924d3b7a4": {
          "model_module": "@jupyter-widgets/base",
          "model_name": "LayoutModel",
          "state": {
            "_view_name": "LayoutView",
            "grid_template_rows": null,
            "right": null,
            "justify_content": null,
            "_view_module": "@jupyter-widgets/base",
            "overflow": null,
            "_model_module_version": "1.2.0",
            "_view_count": null,
            "flex_flow": null,
            "width": null,
            "min_width": null,
            "border": null,
            "align_items": null,
            "bottom": null,
            "_model_module": "@jupyter-widgets/base",
            "top": null,
            "grid_column": null,
            "overflow_y": null,
            "overflow_x": null,
            "grid_auto_flow": null,
            "grid_area": null,
            "grid_template_columns": null,
            "flex": null,
            "_model_name": "LayoutModel",
            "justify_items": null,
            "grid_row": null,
            "max_height": null,
            "align_content": null,
            "visibility": null,
            "align_self": null,
            "height": null,
            "min_height": null,
            "padding": null,
            "grid_auto_rows": null,
            "grid_gap": null,
            "max_width": null,
            "order": null,
            "_view_module_version": "1.2.0",
            "grid_template_areas": null,
            "object_position": null,
            "object_fit": null,
            "grid_auto_columns": null,
            "margin": null,
            "display": null,
            "left": null
          }
        },
        "3a688ef6b3394ba1bdcb9143e378f4b8": {
          "model_module": "@jupyter-widgets/controls",
          "model_name": "DescriptionStyleModel",
          "state": {
            "_view_name": "StyleView",
            "_model_name": "DescriptionStyleModel",
            "description_width": "",
            "_view_module": "@jupyter-widgets/base",
            "_model_module_version": "1.5.0",
            "_view_count": null,
            "_view_module_version": "1.2.0",
            "_model_module": "@jupyter-widgets/controls"
          }
        },
        "6e217045b53e4ae8854a382d0e8f3893": {
          "model_module": "@jupyter-widgets/base",
          "model_name": "LayoutModel",
          "state": {
            "_view_name": "LayoutView",
            "grid_template_rows": null,
            "right": null,
            "justify_content": null,
            "_view_module": "@jupyter-widgets/base",
            "overflow": null,
            "_model_module_version": "1.2.0",
            "_view_count": null,
            "flex_flow": null,
            "width": null,
            "min_width": null,
            "border": null,
            "align_items": null,
            "bottom": null,
            "_model_module": "@jupyter-widgets/base",
            "top": null,
            "grid_column": null,
            "overflow_y": null,
            "overflow_x": null,
            "grid_auto_flow": null,
            "grid_area": null,
            "grid_template_columns": null,
            "flex": null,
            "_model_name": "LayoutModel",
            "justify_items": null,
            "grid_row": null,
            "max_height": null,
            "align_content": null,
            "visibility": null,
            "align_self": null,
            "height": null,
            "min_height": null,
            "padding": null,
            "grid_auto_rows": null,
            "grid_gap": null,
            "max_width": null,
            "order": null,
            "_view_module_version": "1.2.0",
            "grid_template_areas": null,
            "object_position": null,
            "object_fit": null,
            "grid_auto_columns": null,
            "margin": null,
            "display": null,
            "left": null
          }
        },
        "22aba2643e5649d6841db2730836810f": {
          "model_module": "@jupyter-widgets/controls",
          "model_name": "HBoxModel",
          "state": {
            "_view_name": "HBoxView",
            "_dom_classes": [],
            "_model_name": "HBoxModel",
            "_view_module": "@jupyter-widgets/controls",
            "_model_module_version": "1.5.0",
            "_view_count": null,
            "_view_module_version": "1.5.0",
            "box_style": "",
            "layout": "IPY_MODEL_a4a2f60ce31c47c39c5e3f0f48189b18",
            "_model_module": "@jupyter-widgets/controls",
            "children": [
              "IPY_MODEL_d28bc15ef4df4add9cb08b6b72590477",
              "IPY_MODEL_2f16ec09121447bcb775abdcea2e7edc"
            ]
          }
        },
        "a4a2f60ce31c47c39c5e3f0f48189b18": {
          "model_module": "@jupyter-widgets/base",
          "model_name": "LayoutModel",
          "state": {
            "_view_name": "LayoutView",
            "grid_template_rows": null,
            "right": null,
            "justify_content": null,
            "_view_module": "@jupyter-widgets/base",
            "overflow": null,
            "_model_module_version": "1.2.0",
            "_view_count": null,
            "flex_flow": null,
            "width": null,
            "min_width": null,
            "border": null,
            "align_items": null,
            "bottom": null,
            "_model_module": "@jupyter-widgets/base",
            "top": null,
            "grid_column": null,
            "overflow_y": null,
            "overflow_x": null,
            "grid_auto_flow": null,
            "grid_area": null,
            "grid_template_columns": null,
            "flex": null,
            "_model_name": "LayoutModel",
            "justify_items": null,
            "grid_row": null,
            "max_height": null,
            "align_content": null,
            "visibility": null,
            "align_self": null,
            "height": null,
            "min_height": null,
            "padding": null,
            "grid_auto_rows": null,
            "grid_gap": null,
            "max_width": null,
            "order": null,
            "_view_module_version": "1.2.0",
            "grid_template_areas": null,
            "object_position": null,
            "object_fit": null,
            "grid_auto_columns": null,
            "margin": null,
            "display": null,
            "left": null
          }
        },
        "d28bc15ef4df4add9cb08b6b72590477": {
          "model_module": "@jupyter-widgets/controls",
          "model_name": "IntProgressModel",
          "state": {
            "_view_name": "ProgressView",
            "style": "IPY_MODEL_37ea438ecf8447f5af9b128e9bb30635",
            "_dom_classes": [],
            "description": "  0%",
            "_model_name": "IntProgressModel",
            "bar_style": "info",
            "max": 1,
            "_view_module": "@jupyter-widgets/controls",
            "_model_module_version": "1.5.0",
            "value": 0,
            "_view_count": null,
            "_view_module_version": "1.5.0",
            "orientation": "horizontal",
            "min": 0,
            "description_tooltip": null,
            "_model_module": "@jupyter-widgets/controls",
            "layout": "IPY_MODEL_f8765b14f2204995a06e63cbf0f51dde"
          }
        },
        "2f16ec09121447bcb775abdcea2e7edc": {
          "model_module": "@jupyter-widgets/controls",
          "model_name": "HTMLModel",
          "state": {
            "_view_name": "HTMLView",
            "style": "IPY_MODEL_bbd379049cc44aa8b6f9e1d509e33983",
            "_dom_classes": [],
            "description": "",
            "_model_name": "HTMLModel",
            "placeholder": "​",
            "_view_module": "@jupyter-widgets/controls",
            "_model_module_version": "1.5.0",
            "value": " 0/28881 [00:00&lt;?, ?it/s]",
            "_view_count": null,
            "_view_module_version": "1.5.0",
            "description_tooltip": null,
            "_model_module": "@jupyter-widgets/controls",
            "layout": "IPY_MODEL_28edb6edbda644d99162577ae4329d6d"
          }
        },
        "37ea438ecf8447f5af9b128e9bb30635": {
          "model_module": "@jupyter-widgets/controls",
          "model_name": "ProgressStyleModel",
          "state": {
            "_view_name": "StyleView",
            "_model_name": "ProgressStyleModel",
            "description_width": "initial",
            "_view_module": "@jupyter-widgets/base",
            "_model_module_version": "1.5.0",
            "_view_count": null,
            "_view_module_version": "1.2.0",
            "bar_color": null,
            "_model_module": "@jupyter-widgets/controls"
          }
        },
        "f8765b14f2204995a06e63cbf0f51dde": {
          "model_module": "@jupyter-widgets/base",
          "model_name": "LayoutModel",
          "state": {
            "_view_name": "LayoutView",
            "grid_template_rows": null,
            "right": null,
            "justify_content": null,
            "_view_module": "@jupyter-widgets/base",
            "overflow": null,
            "_model_module_version": "1.2.0",
            "_view_count": null,
            "flex_flow": null,
            "width": null,
            "min_width": null,
            "border": null,
            "align_items": null,
            "bottom": null,
            "_model_module": "@jupyter-widgets/base",
            "top": null,
            "grid_column": null,
            "overflow_y": null,
            "overflow_x": null,
            "grid_auto_flow": null,
            "grid_area": null,
            "grid_template_columns": null,
            "flex": null,
            "_model_name": "LayoutModel",
            "justify_items": null,
            "grid_row": null,
            "max_height": null,
            "align_content": null,
            "visibility": null,
            "align_self": null,
            "height": null,
            "min_height": null,
            "padding": null,
            "grid_auto_rows": null,
            "grid_gap": null,
            "max_width": null,
            "order": null,
            "_view_module_version": "1.2.0",
            "grid_template_areas": null,
            "object_position": null,
            "object_fit": null,
            "grid_auto_columns": null,
            "margin": null,
            "display": null,
            "left": null
          }
        },
        "bbd379049cc44aa8b6f9e1d509e33983": {
          "model_module": "@jupyter-widgets/controls",
          "model_name": "DescriptionStyleModel",
          "state": {
            "_view_name": "StyleView",
            "_model_name": "DescriptionStyleModel",
            "description_width": "",
            "_view_module": "@jupyter-widgets/base",
            "_model_module_version": "1.5.0",
            "_view_count": null,
            "_view_module_version": "1.2.0",
            "_model_module": "@jupyter-widgets/controls"
          }
        },
        "28edb6edbda644d99162577ae4329d6d": {
          "model_module": "@jupyter-widgets/base",
          "model_name": "LayoutModel",
          "state": {
            "_view_name": "LayoutView",
            "grid_template_rows": null,
            "right": null,
            "justify_content": null,
            "_view_module": "@jupyter-widgets/base",
            "overflow": null,
            "_model_module_version": "1.2.0",
            "_view_count": null,
            "flex_flow": null,
            "width": null,
            "min_width": null,
            "border": null,
            "align_items": null,
            "bottom": null,
            "_model_module": "@jupyter-widgets/base",
            "top": null,
            "grid_column": null,
            "overflow_y": null,
            "overflow_x": null,
            "grid_auto_flow": null,
            "grid_area": null,
            "grid_template_columns": null,
            "flex": null,
            "_model_name": "LayoutModel",
            "justify_items": null,
            "grid_row": null,
            "max_height": null,
            "align_content": null,
            "visibility": null,
            "align_self": null,
            "height": null,
            "min_height": null,
            "padding": null,
            "grid_auto_rows": null,
            "grid_gap": null,
            "max_width": null,
            "order": null,
            "_view_module_version": "1.2.0",
            "grid_template_areas": null,
            "object_position": null,
            "object_fit": null,
            "grid_auto_columns": null,
            "margin": null,
            "display": null,
            "left": null
          }
        },
        "80d9ea2de23c40cf8e5df68f58b4890c": {
          "model_module": "@jupyter-widgets/controls",
          "model_name": "HBoxModel",
          "state": {
            "_view_name": "HBoxView",
            "_dom_classes": [],
            "_model_name": "HBoxModel",
            "_view_module": "@jupyter-widgets/controls",
            "_model_module_version": "1.5.0",
            "_view_count": null,
            "_view_module_version": "1.5.0",
            "box_style": "",
            "layout": "IPY_MODEL_1779820f6f084e2bae8dfe12d08f3a4d",
            "_model_module": "@jupyter-widgets/controls",
            "children": [
              "IPY_MODEL_8a7f2cc93118405483effb50dd5c448c",
              "IPY_MODEL_e6471e1d353e40a5b5a58369a7a46f84"
            ]
          }
        },
        "1779820f6f084e2bae8dfe12d08f3a4d": {
          "model_module": "@jupyter-widgets/base",
          "model_name": "LayoutModel",
          "state": {
            "_view_name": "LayoutView",
            "grid_template_rows": null,
            "right": null,
            "justify_content": null,
            "_view_module": "@jupyter-widgets/base",
            "overflow": null,
            "_model_module_version": "1.2.0",
            "_view_count": null,
            "flex_flow": null,
            "width": null,
            "min_width": null,
            "border": null,
            "align_items": null,
            "bottom": null,
            "_model_module": "@jupyter-widgets/base",
            "top": null,
            "grid_column": null,
            "overflow_y": null,
            "overflow_x": null,
            "grid_auto_flow": null,
            "grid_area": null,
            "grid_template_columns": null,
            "flex": null,
            "_model_name": "LayoutModel",
            "justify_items": null,
            "grid_row": null,
            "max_height": null,
            "align_content": null,
            "visibility": null,
            "align_self": null,
            "height": null,
            "min_height": null,
            "padding": null,
            "grid_auto_rows": null,
            "grid_gap": null,
            "max_width": null,
            "order": null,
            "_view_module_version": "1.2.0",
            "grid_template_areas": null,
            "object_position": null,
            "object_fit": null,
            "grid_auto_columns": null,
            "margin": null,
            "display": null,
            "left": null
          }
        },
        "8a7f2cc93118405483effb50dd5c448c": {
          "model_module": "@jupyter-widgets/controls",
          "model_name": "IntProgressModel",
          "state": {
            "_view_name": "ProgressView",
            "style": "IPY_MODEL_2b9a28bf64bc4e22a0eb6c4d1197cafd",
            "_dom_classes": [],
            "description": "",
            "_model_name": "IntProgressModel",
            "bar_style": "success",
            "max": 1,
            "_view_module": "@jupyter-widgets/controls",
            "_model_module_version": "1.5.0",
            "value": 1,
            "_view_count": null,
            "_view_module_version": "1.5.0",
            "orientation": "horizontal",
            "min": 0,
            "description_tooltip": null,
            "_model_module": "@jupyter-widgets/controls",
            "layout": "IPY_MODEL_f36d1ba6141e4f20853757f8d743abb4"
          }
        },
        "e6471e1d353e40a5b5a58369a7a46f84": {
          "model_module": "@jupyter-widgets/controls",
          "model_name": "HTMLModel",
          "state": {
            "_view_name": "HTMLView",
            "style": "IPY_MODEL_2315feabc8d343998fe8d674e1bc19f4",
            "_dom_classes": [],
            "description": "",
            "_model_name": "HTMLModel",
            "placeholder": "​",
            "_view_module": "@jupyter-widgets/controls",
            "_model_module_version": "1.5.0",
            "value": " 1654784/? [00:01&lt;00:00, 1027629.80it/s]",
            "_view_count": null,
            "_view_module_version": "1.5.0",
            "description_tooltip": null,
            "_model_module": "@jupyter-widgets/controls",
            "layout": "IPY_MODEL_a6066d7fe02b466d9c0ac4b7381eaac1"
          }
        },
        "2b9a28bf64bc4e22a0eb6c4d1197cafd": {
          "model_module": "@jupyter-widgets/controls",
          "model_name": "ProgressStyleModel",
          "state": {
            "_view_name": "StyleView",
            "_model_name": "ProgressStyleModel",
            "description_width": "initial",
            "_view_module": "@jupyter-widgets/base",
            "_model_module_version": "1.5.0",
            "_view_count": null,
            "_view_module_version": "1.2.0",
            "bar_color": null,
            "_model_module": "@jupyter-widgets/controls"
          }
        },
        "f36d1ba6141e4f20853757f8d743abb4": {
          "model_module": "@jupyter-widgets/base",
          "model_name": "LayoutModel",
          "state": {
            "_view_name": "LayoutView",
            "grid_template_rows": null,
            "right": null,
            "justify_content": null,
            "_view_module": "@jupyter-widgets/base",
            "overflow": null,
            "_model_module_version": "1.2.0",
            "_view_count": null,
            "flex_flow": null,
            "width": null,
            "min_width": null,
            "border": null,
            "align_items": null,
            "bottom": null,
            "_model_module": "@jupyter-widgets/base",
            "top": null,
            "grid_column": null,
            "overflow_y": null,
            "overflow_x": null,
            "grid_auto_flow": null,
            "grid_area": null,
            "grid_template_columns": null,
            "flex": null,
            "_model_name": "LayoutModel",
            "justify_items": null,
            "grid_row": null,
            "max_height": null,
            "align_content": null,
            "visibility": null,
            "align_self": null,
            "height": null,
            "min_height": null,
            "padding": null,
            "grid_auto_rows": null,
            "grid_gap": null,
            "max_width": null,
            "order": null,
            "_view_module_version": "1.2.0",
            "grid_template_areas": null,
            "object_position": null,
            "object_fit": null,
            "grid_auto_columns": null,
            "margin": null,
            "display": null,
            "left": null
          }
        },
        "2315feabc8d343998fe8d674e1bc19f4": {
          "model_module": "@jupyter-widgets/controls",
          "model_name": "DescriptionStyleModel",
          "state": {
            "_view_name": "StyleView",
            "_model_name": "DescriptionStyleModel",
            "description_width": "",
            "_view_module": "@jupyter-widgets/base",
            "_model_module_version": "1.5.0",
            "_view_count": null,
            "_view_module_version": "1.2.0",
            "_model_module": "@jupyter-widgets/controls"
          }
        },
        "a6066d7fe02b466d9c0ac4b7381eaac1": {
          "model_module": "@jupyter-widgets/base",
          "model_name": "LayoutModel",
          "state": {
            "_view_name": "LayoutView",
            "grid_template_rows": null,
            "right": null,
            "justify_content": null,
            "_view_module": "@jupyter-widgets/base",
            "overflow": null,
            "_model_module_version": "1.2.0",
            "_view_count": null,
            "flex_flow": null,
            "width": null,
            "min_width": null,
            "border": null,
            "align_items": null,
            "bottom": null,
            "_model_module": "@jupyter-widgets/base",
            "top": null,
            "grid_column": null,
            "overflow_y": null,
            "overflow_x": null,
            "grid_auto_flow": null,
            "grid_area": null,
            "grid_template_columns": null,
            "flex": null,
            "_model_name": "LayoutModel",
            "justify_items": null,
            "grid_row": null,
            "max_height": null,
            "align_content": null,
            "visibility": null,
            "align_self": null,
            "height": null,
            "min_height": null,
            "padding": null,
            "grid_auto_rows": null,
            "grid_gap": null,
            "max_width": null,
            "order": null,
            "_view_module_version": "1.2.0",
            "grid_template_areas": null,
            "object_position": null,
            "object_fit": null,
            "grid_auto_columns": null,
            "margin": null,
            "display": null,
            "left": null
          }
        },
        "23069c4a4b504722aeb7812987ec2e81": {
          "model_module": "@jupyter-widgets/controls",
          "model_name": "HBoxModel",
          "state": {
            "_view_name": "HBoxView",
            "_dom_classes": [],
            "_model_name": "HBoxModel",
            "_view_module": "@jupyter-widgets/controls",
            "_model_module_version": "1.5.0",
            "_view_count": null,
            "_view_module_version": "1.5.0",
            "box_style": "",
            "layout": "IPY_MODEL_0dfcd80caaea4e50b686ac5f5237c344",
            "_model_module": "@jupyter-widgets/controls",
            "children": [
              "IPY_MODEL_0cda928409d0481fa29c187f3aa11586",
              "IPY_MODEL_a71f8a501cfd436ea4b56df47be46164"
            ]
          }
        },
        "0dfcd80caaea4e50b686ac5f5237c344": {
          "model_module": "@jupyter-widgets/base",
          "model_name": "LayoutModel",
          "state": {
            "_view_name": "LayoutView",
            "grid_template_rows": null,
            "right": null,
            "justify_content": null,
            "_view_module": "@jupyter-widgets/base",
            "overflow": null,
            "_model_module_version": "1.2.0",
            "_view_count": null,
            "flex_flow": null,
            "width": null,
            "min_width": null,
            "border": null,
            "align_items": null,
            "bottom": null,
            "_model_module": "@jupyter-widgets/base",
            "top": null,
            "grid_column": null,
            "overflow_y": null,
            "overflow_x": null,
            "grid_auto_flow": null,
            "grid_area": null,
            "grid_template_columns": null,
            "flex": null,
            "_model_name": "LayoutModel",
            "justify_items": null,
            "grid_row": null,
            "max_height": null,
            "align_content": null,
            "visibility": null,
            "align_self": null,
            "height": null,
            "min_height": null,
            "padding": null,
            "grid_auto_rows": null,
            "grid_gap": null,
            "max_width": null,
            "order": null,
            "_view_module_version": "1.2.0",
            "grid_template_areas": null,
            "object_position": null,
            "object_fit": null,
            "grid_auto_columns": null,
            "margin": null,
            "display": null,
            "left": null
          }
        },
        "0cda928409d0481fa29c187f3aa11586": {
          "model_module": "@jupyter-widgets/controls",
          "model_name": "IntProgressModel",
          "state": {
            "_view_name": "ProgressView",
            "style": "IPY_MODEL_b2858e74814c46f2849ae530c237a4e0",
            "_dom_classes": [],
            "description": "",
            "_model_name": "IntProgressModel",
            "bar_style": "success",
            "max": 1,
            "_view_module": "@jupyter-widgets/controls",
            "_model_module_version": "1.5.0",
            "value": 1,
            "_view_count": null,
            "_view_module_version": "1.5.0",
            "orientation": "horizontal",
            "min": 0,
            "description_tooltip": null,
            "_model_module": "@jupyter-widgets/controls",
            "layout": "IPY_MODEL_ce92587dc4d14c8b88c5ea383735934c"
          }
        },
        "a71f8a501cfd436ea4b56df47be46164": {
          "model_module": "@jupyter-widgets/controls",
          "model_name": "HTMLModel",
          "state": {
            "_view_name": "HTMLView",
            "style": "IPY_MODEL_8221a05b62144f7a89425e7dc7418ecb",
            "_dom_classes": [],
            "description": "",
            "_model_name": "HTMLModel",
            "placeholder": "​",
            "_view_module": "@jupyter-widgets/controls",
            "_model_module_version": "1.5.0",
            "value": " 8192/? [00:00&lt;00:00, 18722.49it/s]",
            "_view_count": null,
            "_view_module_version": "1.5.0",
            "description_tooltip": null,
            "_model_module": "@jupyter-widgets/controls",
            "layout": "IPY_MODEL_28eb08ecf9624a9aa6f2e2217c99afd3"
          }
        },
        "b2858e74814c46f2849ae530c237a4e0": {
          "model_module": "@jupyter-widgets/controls",
          "model_name": "ProgressStyleModel",
          "state": {
            "_view_name": "StyleView",
            "_model_name": "ProgressStyleModel",
            "description_width": "initial",
            "_view_module": "@jupyter-widgets/base",
            "_model_module_version": "1.5.0",
            "_view_count": null,
            "_view_module_version": "1.2.0",
            "bar_color": null,
            "_model_module": "@jupyter-widgets/controls"
          }
        },
        "ce92587dc4d14c8b88c5ea383735934c": {
          "model_module": "@jupyter-widgets/base",
          "model_name": "LayoutModel",
          "state": {
            "_view_name": "LayoutView",
            "grid_template_rows": null,
            "right": null,
            "justify_content": null,
            "_view_module": "@jupyter-widgets/base",
            "overflow": null,
            "_model_module_version": "1.2.0",
            "_view_count": null,
            "flex_flow": null,
            "width": null,
            "min_width": null,
            "border": null,
            "align_items": null,
            "bottom": null,
            "_model_module": "@jupyter-widgets/base",
            "top": null,
            "grid_column": null,
            "overflow_y": null,
            "overflow_x": null,
            "grid_auto_flow": null,
            "grid_area": null,
            "grid_template_columns": null,
            "flex": null,
            "_model_name": "LayoutModel",
            "justify_items": null,
            "grid_row": null,
            "max_height": null,
            "align_content": null,
            "visibility": null,
            "align_self": null,
            "height": null,
            "min_height": null,
            "padding": null,
            "grid_auto_rows": null,
            "grid_gap": null,
            "max_width": null,
            "order": null,
            "_view_module_version": "1.2.0",
            "grid_template_areas": null,
            "object_position": null,
            "object_fit": null,
            "grid_auto_columns": null,
            "margin": null,
            "display": null,
            "left": null
          }
        },
        "8221a05b62144f7a89425e7dc7418ecb": {
          "model_module": "@jupyter-widgets/controls",
          "model_name": "DescriptionStyleModel",
          "state": {
            "_view_name": "StyleView",
            "_model_name": "DescriptionStyleModel",
            "description_width": "",
            "_view_module": "@jupyter-widgets/base",
            "_model_module_version": "1.5.0",
            "_view_count": null,
            "_view_module_version": "1.2.0",
            "_model_module": "@jupyter-widgets/controls"
          }
        },
        "28eb08ecf9624a9aa6f2e2217c99afd3": {
          "model_module": "@jupyter-widgets/base",
          "model_name": "LayoutModel",
          "state": {
            "_view_name": "LayoutView",
            "grid_template_rows": null,
            "right": null,
            "justify_content": null,
            "_view_module": "@jupyter-widgets/base",
            "overflow": null,
            "_model_module_version": "1.2.0",
            "_view_count": null,
            "flex_flow": null,
            "width": null,
            "min_width": null,
            "border": null,
            "align_items": null,
            "bottom": null,
            "_model_module": "@jupyter-widgets/base",
            "top": null,
            "grid_column": null,
            "overflow_y": null,
            "overflow_x": null,
            "grid_auto_flow": null,
            "grid_area": null,
            "grid_template_columns": null,
            "flex": null,
            "_model_name": "LayoutModel",
            "justify_items": null,
            "grid_row": null,
            "max_height": null,
            "align_content": null,
            "visibility": null,
            "align_self": null,
            "height": null,
            "min_height": null,
            "padding": null,
            "grid_auto_rows": null,
            "grid_gap": null,
            "max_width": null,
            "order": null,
            "_view_module_version": "1.2.0",
            "grid_template_areas": null,
            "object_position": null,
            "object_fit": null,
            "grid_auto_columns": null,
            "margin": null,
            "display": null,
            "left": null
          }
        }
      }
    }
  },
  "cells": [
    {
      "cell_type": "markdown",
      "metadata": {
        "id": "view-in-github",
        "colab_type": "text"
      },
      "source": [
        "<a href=\"https://colab.research.google.com/github/ivyclare/PrivateAI/blob/master/MNIST_PATE_Analysis.ipynb\" target=\"_parent\"><img src=\"https://colab.research.google.com/assets/colab-badge.svg\" alt=\"Open In Colab\"/></a>"
      ]
    },
    {
      "cell_type": "markdown",
      "metadata": {
        "id": "bZi32riIbuSu",
        "colab_type": "text"
      },
      "source": [
        "### PATE Analysis on MNIST"
      ]
    },
    {
      "cell_type": "markdown",
      "metadata": {
        "id": "vuz3kCT6buSv",
        "colab_type": "text"
      },
      "source": [
        "http://www.cleverhans.io/privacy/2018/04/29/privacy-and-machine-learning.html\n",
        "Our PATE approach at providing differential privacy to machine learning is based on a simple intuition: if two different classifiers, trained on two different datasets with no training examples in common, agree on how to classify a new input example, then that decision does not reveal information about any single training example. The decision could have been made with or without any single training example, because both the model trained with that example and the model trained without that example reached the same conclusion.\n",
        "\n",
        "===================="
      ]
    },
    {
      "cell_type": "markdown",
      "metadata": {
        "id": "jWHMA7l8buSw",
        "colab_type": "text"
      },
      "source": [
        "In order to train MNIST in a differentially private manner, we need 2 main components; private datasets (teachers) and public unlabelled dataset (student). MNIST is divided into train and test data. Hence, we'll have to create the teacher and student datasets ourselves. \n",
        "\n",
        "We will follow the steps below, to create a privacy preserving MNIST deep learning model:\n",
        "\n",
        "- Create the teacher and student datasets\n",
        "    - The training data is divided into non-overlapping subsets\n",
        "- "
      ]
    },
    {
      "cell_type": "code",
      "metadata": {
        "id": "sOSQpjXfb6VX",
        "colab_type": "code",
        "colab": {
          "base_uri": "https://localhost:8080/",
          "height": 125
        },
        "outputId": "66e1cdf6-d1a7-4cff-ac7e-5ed8b3e308fb"
      },
      "source": [
        "from google.colab import drive\n",
        "drive.mount('/content/drive')"
      ],
      "execution_count": 1,
      "outputs": [
        {
          "output_type": "stream",
          "text": [
            "Go to this URL in a browser: https://accounts.google.com/o/oauth2/auth?client_id=947318989803-6bn6qk8qdgf4n4g3pfee6491hc0brc4i.apps.googleusercontent.com&redirect_uri=urn%3aietf%3awg%3aoauth%3a2.0%3aoob&response_type=code&scope=email%20https%3a%2f%2fwww.googleapis.com%2fauth%2fdocs.test%20https%3a%2f%2fwww.googleapis.com%2fauth%2fdrive%20https%3a%2f%2fwww.googleapis.com%2fauth%2fdrive.photos.readonly%20https%3a%2f%2fwww.googleapis.com%2fauth%2fpeopleapi.readonly\n",
            "\n",
            "Enter your authorization code:\n",
            "··········\n",
            "Mounted at /content/drive\n"
          ],
          "name": "stdout"
        }
      ]
    },
    {
      "cell_type": "code",
      "metadata": {
        "id": "x697LZTXbuSw",
        "colab_type": "code",
        "colab": {}
      },
      "source": [
        "# import our libraries\n",
        "import numpy as np\n",
        "import pandas as pd\n",
        "import torch\n",
        "from torchvision import datasets, transforms\n",
        "from torch.utils.data import Subset, DataLoader\n",
        "from torch import nn, optim\n",
        "import torch.nn.functional as F\n",
        "import time, os\n",
        "import math"
      ],
      "execution_count": 0,
      "outputs": []
    },
    {
      "cell_type": "markdown",
      "metadata": {
        "id": "0jwIG2YJbuS1",
        "colab_type": "text"
      },
      "source": [
        "### Step 1: Create Teacher and Student Datasets"
      ]
    },
    {
      "cell_type": "code",
      "metadata": {
        "id": "YaoJa_X5buS2",
        "colab_type": "code",
        "colab": {
          "base_uri": "https://localhost:8080/",
          "height": 359,
          "referenced_widgets": [
            "968a735bd0dc460197ba9031298b2301",
            "497b9d00b18b47ad99c1fdea371f6af4",
            "d86280b892d7448baa0607724fd7f157",
            "23e3c4cc3e5141f59f365b22c7ac4b90",
            "61e9266df94c4017b5e9c0ae8f93122a",
            "72549e908deb4a558fc3a7f924d3b7a4",
            "3a688ef6b3394ba1bdcb9143e378f4b8",
            "6e217045b53e4ae8854a382d0e8f3893",
            "22aba2643e5649d6841db2730836810f",
            "a4a2f60ce31c47c39c5e3f0f48189b18",
            "d28bc15ef4df4add9cb08b6b72590477",
            "2f16ec09121447bcb775abdcea2e7edc",
            "37ea438ecf8447f5af9b128e9bb30635",
            "f8765b14f2204995a06e63cbf0f51dde",
            "bbd379049cc44aa8b6f9e1d509e33983",
            "28edb6edbda644d99162577ae4329d6d",
            "80d9ea2de23c40cf8e5df68f58b4890c",
            "1779820f6f084e2bae8dfe12d08f3a4d",
            "8a7f2cc93118405483effb50dd5c448c",
            "e6471e1d353e40a5b5a58369a7a46f84",
            "2b9a28bf64bc4e22a0eb6c4d1197cafd",
            "f36d1ba6141e4f20853757f8d743abb4",
            "2315feabc8d343998fe8d674e1bc19f4",
            "a6066d7fe02b466d9c0ac4b7381eaac1",
            "23069c4a4b504722aeb7812987ec2e81",
            "0dfcd80caaea4e50b686ac5f5237c344",
            "0cda928409d0481fa29c187f3aa11586",
            "a71f8a501cfd436ea4b56df47be46164",
            "b2858e74814c46f2849ae530c237a4e0",
            "ce92587dc4d14c8b88c5ea383735934c",
            "8221a05b62144f7a89425e7dc7418ecb",
            "28eb08ecf9624a9aa6f2e2217c99afd3"
          ]
        },
        "outputId": "69e4d1f4-362c-4735-a681-cb399ce2713c"
      },
      "source": [
        "# Load MNIST dataset\n",
        "\n",
        "data_transforms = transforms.Compose([transforms.ToTensor(),\n",
        "                                      transforms.Normalize((0.5,),(0.5,))\n",
        "                                     ])\n",
        "# train_data = datasets.MNIST(root=’data’, train=True, download=True, transform=transform)\n",
        "\n",
        "trainset = datasets.MNIST(root='data', train=True, transform=data_transforms, download=True)\n",
        "\n",
        "testset = datasets.MNIST(root='data', train=False, transform=data_transforms, download=True)\n",
        "\n"
      ],
      "execution_count": 3,
      "outputs": [
        {
          "output_type": "stream",
          "text": [
            "Downloading http://yann.lecun.com/exdb/mnist/train-images-idx3-ubyte.gz to data/MNIST/raw/train-images-idx3-ubyte.gz\n"
          ],
          "name": "stdout"
        },
        {
          "output_type": "display_data",
          "data": {
            "application/vnd.jupyter.widget-view+json": {
              "model_id": "968a735bd0dc460197ba9031298b2301",
              "version_minor": 0,
              "version_major": 2
            },
            "text/plain": [
              "HBox(children=(IntProgress(value=1, bar_style='info', max=1), HTML(value='')))"
            ]
          },
          "metadata": {
            "tags": []
          }
        },
        {
          "output_type": "stream",
          "text": [
            "Extracting data/MNIST/raw/train-images-idx3-ubyte.gz to data/MNIST/raw\n",
            "Downloading http://yann.lecun.com/exdb/mnist/train-labels-idx1-ubyte.gz to data/MNIST/raw/train-labels-idx1-ubyte.gz\n"
          ],
          "name": "stdout"
        },
        {
          "output_type": "display_data",
          "data": {
            "application/vnd.jupyter.widget-view+json": {
              "model_id": "22aba2643e5649d6841db2730836810f",
              "version_minor": 0,
              "version_major": 2
            },
            "text/plain": [
              "HBox(children=(IntProgress(value=1, bar_style='info', max=1), HTML(value='')))"
            ]
          },
          "metadata": {
            "tags": []
          }
        },
        {
          "output_type": "stream",
          "text": [
            "Extracting data/MNIST/raw/train-labels-idx1-ubyte.gz to data/MNIST/raw\n",
            "Downloading http://yann.lecun.com/exdb/mnist/t10k-images-idx3-ubyte.gz to data/MNIST/raw/t10k-images-idx3-ubyte.gz\n"
          ],
          "name": "stdout"
        },
        {
          "output_type": "display_data",
          "data": {
            "application/vnd.jupyter.widget-view+json": {
              "model_id": "80d9ea2de23c40cf8e5df68f58b4890c",
              "version_minor": 0,
              "version_major": 2
            },
            "text/plain": [
              "HBox(children=(IntProgress(value=1, bar_style='info', max=1), HTML(value='')))"
            ]
          },
          "metadata": {
            "tags": []
          }
        },
        {
          "output_type": "stream",
          "text": [
            "Extracting data/MNIST/raw/t10k-images-idx3-ubyte.gz to data/MNIST/raw\n",
            "Downloading http://yann.lecun.com/exdb/mnist/t10k-labels-idx1-ubyte.gz to data/MNIST/raw/t10k-labels-idx1-ubyte.gz\n"
          ],
          "name": "stdout"
        },
        {
          "output_type": "display_data",
          "data": {
            "application/vnd.jupyter.widget-view+json": {
              "model_id": "23069c4a4b504722aeb7812987ec2e81",
              "version_minor": 0,
              "version_major": 2
            },
            "text/plain": [
              "HBox(children=(IntProgress(value=1, bar_style='info', max=1), HTML(value='')))"
            ]
          },
          "metadata": {
            "tags": []
          }
        },
        {
          "output_type": "stream",
          "text": [
            "Extracting data/MNIST/raw/t10k-labels-idx1-ubyte.gz to data/MNIST/raw\n",
            "Processing...\n",
            "Done!\n"
          ],
          "name": "stdout"
        },
        {
          "output_type": "stream",
          "text": [
            "/pytorch/torch/csrc/utils/tensor_numpy.cpp:141: UserWarning: The given NumPy array is not writeable, and PyTorch does not support non-writeable tensors. This means you can write to the underlying (supposedly non-writeable) NumPy array using the tensor. You may want to copy the array to protect its data or make it writeable before converting it to a tensor. This type of warning will be suppressed for the rest of this program.\n"
          ],
          "name": "stderr"
        }
      ]
    },
    {
      "cell_type": "code",
      "metadata": {
        "id": "w3RyJT85buS7",
        "colab_type": "code",
        "colab": {}
      },
      "source": [
        "len(trainset), len(testset)\n",
        "device = torch.device(\"cuda\" if torch.cuda.is_available() else \"cpu\")"
      ],
      "execution_count": 0,
      "outputs": []
    },
    {
      "cell_type": "code",
      "metadata": {
        "id": "vDVQt12ebuS_",
        "colab_type": "code",
        "colab": {
          "base_uri": "https://localhost:8080/",
          "height": 70
        },
        "outputId": "26b3a028-53bd-4e32-cbda-b8ef72fa6c5c"
      },
      "source": [
        "# TEACHERS\n",
        "#divide train set between teachers and create dataloaders for valid and trainsets\n",
        "num_teachers = 10\n",
        "valid_per = 0.2 #20% for validation\n",
        "batch_size = 32\n",
        "\n",
        "\n",
        "def teacher_dataloaders(transet=trainset, num_teachers=num_teachers, batch_size=batch_size, valid_per = 0.3):\n",
        "  trainloaders = []\n",
        "  validloaders = []\n",
        "  teacher_data_len = len(trainset) // num_teachers\n",
        "\n",
        "  for i in range(num_teachers):\n",
        "    # get particular subset of data\n",
        "    indice = list(range(i*teacher_data_len, (i+1)*teacher_data_len))\n",
        "    data_subset = Subset(trainset, indice)\n",
        "    # split into train and validation set\n",
        "    valid_size = int(len(data_subset) * valid_per)\n",
        "    train_size = len(data_subset) - valid_size\n",
        "    train_subset, valid_subset = torch.utils.data.random_split(data_subset, [train_size,valid_size])\n",
        "    # print(len(train_subset))\n",
        "    # print(len(valid_subset))\n",
        "\n",
        "    #create data loaders\n",
        "    trainloader = DataLoader(train_subset, batch_size=batch_size, shuffle=True, num_workers=1)\n",
        "    validloader = DataLoader(valid_subset, batch_size=batch_size, shuffle=False, num_workers=1)\n",
        "\n",
        "    #add dataloaders to list\n",
        "    trainloaders.append(trainloader)\n",
        "    validloaders.append(validloader)\n",
        "  \n",
        "  return trainloaders, validloaders\n",
        "\n",
        "trainloaders, validloaders = teacher_dataloaders()\n",
        "len(trainloaders), len(validloaders)"
      ],
      "execution_count": 5,
      "outputs": [
        {
          "output_type": "stream",
          "text": [
            "\n",
            "\n"
          ],
          "name": "stdout"
        },
        {
          "output_type": "execute_result",
          "data": {
            "text/plain": [
              "(10, 10)"
            ]
          },
          "metadata": {
            "tags": []
          },
          "execution_count": 5
        }
      ]
    },
    {
      "cell_type": "code",
      "metadata": {
        "id": "jnR9a5hdbuTC",
        "colab_type": "code",
        "colab": {}
      },
      "source": [
        "#  # STUDENT \n",
        "# split into train and validation set\n",
        "valid_size = int(len(testset) * 0.3)\n",
        "train_size = len(testset) - valid_size\n",
        "student_train_subset, student_valid_subset = torch.utils.data.random_split(testset, [train_size,valid_size])\n",
        "# print(len(train_subset))\n",
        "# print(len(valid_subset))\n",
        "\n",
        "#create data loaders\n",
        "student_trainloader = DataLoader(student_train_subset, batch_size=batch_size, shuffle=True, num_workers=1)\n",
        "student_validloader = DataLoader(student_valid_subset, batch_size=batch_size, shuffle=False, num_workers=1)"
      ],
      "execution_count": 0,
      "outputs": []
    },
    {
      "cell_type": "markdown",
      "metadata": {
        "id": "wgU7Sn3gjf1Z",
        "colab_type": "text"
      },
      "source": [
        "## Step 2: Train Teachers"
      ]
    },
    {
      "cell_type": "code",
      "metadata": {
        "id": "G3GrSyoFj40n",
        "colab_type": "code",
        "colab": {}
      },
      "source": [
        "# define model\n",
        "class Net(nn.Module):\n",
        "  def __init__(self):\n",
        "    super().__init__()\n",
        "\n",
        "    self.fc1 = nn.Linear(784, 256)\n",
        "    self.fc2 = nn.Linear(256, 128)\n",
        "    self.fc3 = nn.Linear(128, 64)\n",
        "    self.fc4 = nn.Linear(64, 10)\n",
        "    self.dropout = nn.Dropout(p=0.4)\n",
        "\n",
        "  def forward(self, x):\n",
        "    x = x.view(x.shape[0], -1)\n",
        "    x = self.fc1(x)\n",
        "    x = self.dropout(F.relu(self.fc2(x)))\n",
        "    x = self.dropout(F.relu(self.fc3(x)))\n",
        "    x = F.log_softmax(self.fc4(x), dim=1)\n",
        "\n",
        "    return x"
      ],
      "execution_count": 0,
      "outputs": []
    },
    {
      "cell_type": "code",
      "metadata": {
        "id": "CFOJuHT_buTI",
        "colab_type": "code",
        "colab": {}
      },
      "source": [
        "# training loop\n",
        "def train(trainloader, validloader, model, optimizer, criterion, epochs, device):\n",
        "  start = time.time()\n",
        "  trainloader = trainloaders[0]\n",
        "  validloader = validloaders[0]\n",
        "  best_loss = math.inf\n",
        "  train_results = []\n",
        "  valid_results = []\n",
        "\n",
        "  for epoch in range(epochs):   \n",
        "    model.train()\n",
        "    running_loss = 0.0\n",
        "    running_corrects = 0\n",
        "    valid_corrects = 0\n",
        "    valid_loss = 0\n",
        "    \n",
        "    for images, labels in trainloader:\n",
        "      images = images.to(device)\n",
        "      labels = labels.to(device)\n",
        "      optimizer.zero_grad()\n",
        "\n",
        "      outputs = model(images)\n",
        "      _, preds = torch.max(outputs, 1)\n",
        "      loss = criterion(outputs, labels)\n",
        "      loss.backward()\n",
        "      optimizer.step()\n",
        "\n",
        "      #running_loss += loss.item()\n",
        "      running_loss += loss.item() * images.size(0)\n",
        "      running_corrects += torch.sum(preds == labels.data)\n",
        "\n",
        "      with torch.no_grad():\n",
        "        model.eval()\n",
        "        for images, labels in validloader:\n",
        "          images = images.to(device)\n",
        "          labels = labels.to(device)\n",
        "\n",
        "          outputs = model(images)\n",
        "          v_loss = criterion(outputs, labels)\n",
        "\n",
        "          valid_loss += loss.item() * images.size(0)\n",
        "          ps = torch.exp(outputs)\n",
        "          top_p, top_class = ps.topk(1, dim=1)\n",
        "          equals = top_class == labels.view(*top_class.shape)\n",
        "          valid_corrects += torch.mean(equals.type(torch.FloatTensor))\n",
        "\n",
        "      #   # if(valid_loss < best_loss):\n",
        "      #   #   best_loss = valid_loss\n",
        "      \n",
        "        train_loss = running_loss / len(trainloader)\n",
        "        train_acc = running_corrects.double() / len(trainloader)\n",
        "        train_results.append([train_loss,train_acc])\n",
        "\n",
        "        valid_losss = valid_loss / len(validloader)\n",
        "        valid_acc = valid_corrects / len(validloader)\n",
        "        valid_results.append([valid_losss,valid_acc])\n",
        "\n",
        "    print(\"Epoch: {}/{}\".format(epoch, epochs))\n",
        "    print('\\tTrain Loss: {:.4f} Train Acc: {:.4f}'.format(train_loss, train_acc))\n",
        "    print('\\tValid Loss: {:.4f} Valid Acc: {:.4f}'.format(valid_losss, valid_acc))\n",
        "  return model\n",
        "  # return model, train_results, valid_results"
      ],
      "execution_count": 0,
      "outputs": []
    },
    {
      "cell_type": "code",
      "metadata": {
        "id": "lA6uZB7_m4qw",
        "colab_type": "code",
        "colab": {}
      },
      "source": [
        "model = Net()\n",
        "#model.to(device)\n",
        "criterion = nn.NLLLoss()\n",
        "optimizer = optim.Adam(model.parameters() , lr=0.001)\n",
        "epochs = 10\n",
        "\n",
        "#train(trainloaders, validloaders, model, optimizer, criterion, epochs, device)"
      ],
      "execution_count": 0,
      "outputs": []
    },
    {
      "cell_type": "code",
      "metadata": {
        "id": "SdYsYzDaSpIm",
        "colab_type": "code",
        "colab": {}
      },
      "source": [
        "\n",
        "# method for training\n",
        "def train(model, criterion, optimizer, trainloader, validloader, epochs=10):\n",
        "  model = model\n",
        "  criterion = criterion\n",
        "  optimizer = optimizer\n",
        "  epochs = epochs\n",
        "\n",
        "  train_losses, valid_losses = [], []\n",
        "  for e in range(epochs):\n",
        "    running_loss = 0\n",
        "    for inputs, labels in trainloader:\n",
        "\n",
        "      optimizer.zero_grad()\n",
        "\n",
        "      log_ps = model(inputs)\n",
        "      loss = criterion(log_ps, labels)\n",
        "      loss.backward()\n",
        "      optimizer.step()\n",
        "\n",
        "      running_loss += loss.item()\n",
        "  \n",
        "    else:\n",
        "      valid_loss = 0\n",
        "      acc = 0\n",
        "\n",
        "      # turn off gradients for validation, saving memory and computations\n",
        "      with torch.no_grad():\n",
        "        model.eval()\n",
        "        for inputs, labels in validloader:\n",
        "\n",
        "          log_ps = model(inputs)\n",
        "          valid_loss += criterion(log_ps, labels)\n",
        "\n",
        "          ps = torch.exp(log_ps)\n",
        "          top_p, top_class = ps.topk(1, dim=1)\n",
        "          equals = top_class == labels.view(*top_class.shape)\n",
        "          acc += torch.mean(equals.type(torch.FloatTensor))\n",
        "\n",
        "      model.train()\n",
        "      train_losses.append(running_loss / len(trainloader))\n",
        "      valid_losses.append(valid_loss / len(validloader))\n",
        "\n",
        "      print('Epoch: {}/{}.. '.format(e+1, epochs),\n",
        "            'Training Loss: {:.3f}.. '.format(running_loss / len(trainloader)),\n",
        "            'Valid Loss: {:.3f}.. '.format(valid_loss / len(validloader)),\n",
        "            'Valid Accuracy: {:.3f} '.format(acc / len(validloader)),\n",
        "            '')\n",
        "  return model"
      ],
      "execution_count": 0,
      "outputs": []
    },
    {
      "cell_type": "code",
      "metadata": {
        "id": "mkKBJOKFx4oS",
        "colab_type": "code",
        "colab": {
          "base_uri": "https://localhost:8080/",
          "height": 1000
        },
        "outputId": "e69aadfa-9e8e-4e52-ed3c-a705f6e277e1"
      },
      "source": [
        "teacher_models = []\n",
        "i = 1\n",
        "for trainloader, validloader in zip(trainloaders, validloaders):\n",
        "  print(\" Training Teacher {}\".format(i))\n",
        "  #teacher_model = train(trainloaders, validloaders, model, optimizer, criterion, epochs, device)\n",
        "  teacher_model = train(model, criterion, optimizer, trainloader, validloader)\n",
        "  teacher_models.append(teacher_model)\n",
        "  i+=1\n",
        "  print(\"======================================================\")"
      ],
      "execution_count": 11,
      "outputs": [
        {
          "output_type": "stream",
          "text": [
            " Training Teacher 1\n",
            "Epoch: 1/10..  Training Loss: 1.462..  Valid Loss: 0.661..  Valid Accuracy: 0.780  \n",
            "Epoch: 2/10..  Training Loss: 0.704..  Valid Loss: 0.465..  Valid Accuracy: 0.855  \n",
            "Epoch: 3/10..  Training Loss: 0.518..  Valid Loss: 0.393..  Valid Accuracy: 0.884  \n",
            "Epoch: 4/10..  Training Loss: 0.470..  Valid Loss: 0.446..  Valid Accuracy: 0.867  \n",
            "Epoch: 5/10..  Training Loss: 0.421..  Valid Loss: 0.329..  Valid Accuracy: 0.906  \n",
            "Epoch: 6/10..  Training Loss: 0.385..  Valid Loss: 0.306..  Valid Accuracy: 0.913  \n",
            "Epoch: 7/10..  Training Loss: 0.376..  Valid Loss: 0.322..  Valid Accuracy: 0.907  \n",
            "Epoch: 8/10..  Training Loss: 0.343..  Valid Loss: 0.319..  Valid Accuracy: 0.906  \n",
            "Epoch: 9/10..  Training Loss: 0.328..  Valid Loss: 0.302..  Valid Accuracy: 0.917  \n",
            "Epoch: 10/10..  Training Loss: 0.319..  Valid Loss: 0.302..  Valid Accuracy: 0.913  \n",
            "======================================================\n",
            " Training Teacher 2\n",
            "Epoch: 1/10..  Training Loss: 0.438..  Valid Loss: 0.328..  Valid Accuracy: 0.901  \n",
            "Epoch: 2/10..  Training Loss: 0.394..  Valid Loss: 0.272..  Valid Accuracy: 0.920  \n",
            "Epoch: 3/10..  Training Loss: 0.346..  Valid Loss: 0.330..  Valid Accuracy: 0.905  \n",
            "Epoch: 4/10..  Training Loss: 0.321..  Valid Loss: 0.267..  Valid Accuracy: 0.927  \n",
            "Epoch: 5/10..  Training Loss: 0.323..  Valid Loss: 0.280..  Valid Accuracy: 0.921  \n",
            "Epoch: 6/10..  Training Loss: 0.285..  Valid Loss: 0.259..  Valid Accuracy: 0.924  \n",
            "Epoch: 7/10..  Training Loss: 0.284..  Valid Loss: 0.279..  Valid Accuracy: 0.922  \n",
            "Epoch: 8/10..  Training Loss: 0.255..  Valid Loss: 0.277..  Valid Accuracy: 0.918  \n",
            "Epoch: 9/10..  Training Loss: 0.320..  Valid Loss: 0.260..  Valid Accuracy: 0.922  \n",
            "Epoch: 10/10..  Training Loss: 0.231..  Valid Loss: 0.235..  Valid Accuracy: 0.931  \n",
            "======================================================\n",
            " Training Teacher 3\n",
            "Epoch: 1/10..  Training Loss: 0.453..  Valid Loss: 0.348..  Valid Accuracy: 0.897  \n",
            "Epoch: 2/10..  Training Loss: 0.392..  Valid Loss: 0.286..  Valid Accuracy: 0.911  \n",
            "Epoch: 3/10..  Training Loss: 0.366..  Valid Loss: 0.292..  Valid Accuracy: 0.919  \n",
            "Epoch: 4/10..  Training Loss: 0.314..  Valid Loss: 0.264..  Valid Accuracy: 0.919  \n",
            "Epoch: 5/10..  Training Loss: 0.294..  Valid Loss: 0.317..  Valid Accuracy: 0.909  \n",
            "Epoch: 6/10..  Training Loss: 0.283..  Valid Loss: 0.313..  Valid Accuracy: 0.912  \n",
            "Epoch: 7/10..  Training Loss: 0.287..  Valid Loss: 0.312..  Valid Accuracy: 0.916  \n",
            "Epoch: 8/10..  Training Loss: 0.262..  Valid Loss: 0.286..  Valid Accuracy: 0.915  \n",
            "Epoch: 9/10..  Training Loss: 0.239..  Valid Loss: 0.261..  Valid Accuracy: 0.914  \n",
            "Epoch: 10/10..  Training Loss: 0.281..  Valid Loss: 0.256..  Valid Accuracy: 0.927  \n",
            "======================================================\n",
            " Training Teacher 4\n",
            "Epoch: 1/10..  Training Loss: 0.374..  Valid Loss: 0.226..  Valid Accuracy: 0.930  \n",
            "Epoch: 2/10..  Training Loss: 0.308..  Valid Loss: 0.236..  Valid Accuracy: 0.925  \n",
            "Epoch: 3/10..  Training Loss: 0.298..  Valid Loss: 0.221..  Valid Accuracy: 0.932  \n",
            "Epoch: 4/10..  Training Loss: 0.275..  Valid Loss: 0.214..  Valid Accuracy: 0.939  \n",
            "Epoch: 5/10..  Training Loss: 0.221..  Valid Loss: 0.197..  Valid Accuracy: 0.936  \n",
            "Epoch: 6/10..  Training Loss: 0.215..  Valid Loss: 0.211..  Valid Accuracy: 0.945  \n",
            "Epoch: 7/10..  Training Loss: 0.237..  Valid Loss: 0.200..  Valid Accuracy: 0.941  \n",
            "Epoch: 8/10..  Training Loss: 0.225..  Valid Loss: 0.228..  Valid Accuracy: 0.937  \n",
            "Epoch: 9/10..  Training Loss: 0.202..  Valid Loss: 0.206..  Valid Accuracy: 0.934  \n",
            "Epoch: 10/10..  Training Loss: 0.190..  Valid Loss: 0.244..  Valid Accuracy: 0.928  \n",
            "======================================================\n",
            " Training Teacher 5\n",
            "Epoch: 1/10..  Training Loss: 0.398..  Valid Loss: 0.198..  Valid Accuracy: 0.933  \n",
            "Epoch: 2/10..  Training Loss: 0.322..  Valid Loss: 0.201..  Valid Accuracy: 0.938  \n",
            "Epoch: 3/10..  Training Loss: 0.271..  Valid Loss: 0.220..  Valid Accuracy: 0.934  \n",
            "Epoch: 4/10..  Training Loss: 0.244..  Valid Loss: 0.267..  Valid Accuracy: 0.934  \n",
            "Epoch: 5/10..  Training Loss: 0.256..  Valid Loss: 0.271..  Valid Accuracy: 0.922  \n",
            "Epoch: 6/10..  Training Loss: 0.234..  Valid Loss: 0.205..  Valid Accuracy: 0.939  \n",
            "Epoch: 7/10..  Training Loss: 0.227..  Valid Loss: 0.214..  Valid Accuracy: 0.938  \n",
            "Epoch: 8/10..  Training Loss: 0.232..  Valid Loss: 0.200..  Valid Accuracy: 0.947  \n",
            "Epoch: 9/10..  Training Loss: 0.231..  Valid Loss: 0.231..  Valid Accuracy: 0.939  \n",
            "Epoch: 10/10..  Training Loss: 0.241..  Valid Loss: 0.211..  Valid Accuracy: 0.942  \n",
            "======================================================\n",
            " Training Teacher 6\n",
            "Epoch: 1/10..  Training Loss: 0.441..  Valid Loss: 0.205..  Valid Accuracy: 0.939  \n",
            "Epoch: 2/10..  Training Loss: 0.332..  Valid Loss: 0.177..  Valid Accuracy: 0.946  \n",
            "Epoch: 3/10..  Training Loss: 0.289..  Valid Loss: 0.182..  Valid Accuracy: 0.945  \n",
            "Epoch: 4/10..  Training Loss: 0.265..  Valid Loss: 0.164..  Valid Accuracy: 0.951  \n",
            "Epoch: 5/10..  Training Loss: 0.237..  Valid Loss: 0.189..  Valid Accuracy: 0.938  \n",
            "Epoch: 6/10..  Training Loss: 0.257..  Valid Loss: 0.186..  Valid Accuracy: 0.943  \n",
            "Epoch: 7/10..  Training Loss: 0.238..  Valid Loss: 0.194..  Valid Accuracy: 0.936  \n",
            "Epoch: 8/10..  Training Loss: 0.230..  Valid Loss: 0.192..  Valid Accuracy: 0.947  \n",
            "Epoch: 9/10..  Training Loss: 0.226..  Valid Loss: 0.192..  Valid Accuracy: 0.942  \n",
            "Epoch: 10/10..  Training Loss: 0.236..  Valid Loss: 0.198..  Valid Accuracy: 0.945  \n",
            "======================================================\n",
            " Training Teacher 7\n",
            "Epoch: 1/10..  Training Loss: 0.362..  Valid Loss: 0.186..  Valid Accuracy: 0.945  \n",
            "Epoch: 2/10..  Training Loss: 0.297..  Valid Loss: 0.178..  Valid Accuracy: 0.946  \n",
            "Epoch: 3/10..  Training Loss: 0.282..  Valid Loss: 0.200..  Valid Accuracy: 0.940  \n",
            "Epoch: 4/10..  Training Loss: 0.264..  Valid Loss: 0.181..  Valid Accuracy: 0.947  \n",
            "Epoch: 5/10..  Training Loss: 0.236..  Valid Loss: 0.189..  Valid Accuracy: 0.944  \n",
            "Epoch: 6/10..  Training Loss: 0.246..  Valid Loss: 0.172..  Valid Accuracy: 0.953  \n",
            "Epoch: 7/10..  Training Loss: 0.230..  Valid Loss: 0.164..  Valid Accuracy: 0.954  \n",
            "Epoch: 8/10..  Training Loss: 0.235..  Valid Loss: 0.226..  Valid Accuracy: 0.939  \n",
            "Epoch: 9/10..  Training Loss: 0.221..  Valid Loss: 0.181..  Valid Accuracy: 0.948  \n",
            "Epoch: 10/10..  Training Loss: 0.204..  Valid Loss: 0.175..  Valid Accuracy: 0.952  \n",
            "======================================================\n",
            " Training Teacher 8\n",
            "Epoch: 1/10..  Training Loss: 0.353..  Valid Loss: 0.183..  Valid Accuracy: 0.940  \n",
            "Epoch: 2/10..  Training Loss: 0.311..  Valid Loss: 0.165..  Valid Accuracy: 0.953  \n",
            "Epoch: 3/10..  Training Loss: 0.293..  Valid Loss: 0.163..  Valid Accuracy: 0.956  \n",
            "Epoch: 4/10..  Training Loss: 0.291..  Valid Loss: 0.167..  Valid Accuracy: 0.951  \n",
            "Epoch: 5/10..  Training Loss: 0.253..  Valid Loss: 0.193..  Valid Accuracy: 0.948  \n",
            "Epoch: 6/10..  Training Loss: 0.236..  Valid Loss: 0.186..  Valid Accuracy: 0.947  \n",
            "Epoch: 7/10..  Training Loss: 0.249..  Valid Loss: 0.162..  Valid Accuracy: 0.955  \n",
            "Epoch: 8/10..  Training Loss: 0.201..  Valid Loss: 0.154..  Valid Accuracy: 0.956  \n",
            "Epoch: 9/10..  Training Loss: 0.221..  Valid Loss: 0.176..  Valid Accuracy: 0.947  \n",
            "Epoch: 10/10..  Training Loss: 0.211..  Valid Loss: 0.164..  Valid Accuracy: 0.951  \n",
            "======================================================\n",
            " Training Teacher 9\n",
            "Epoch: 1/10..  Training Loss: 0.364..  Valid Loss: 0.268..  Valid Accuracy: 0.925  \n",
            "Epoch: 2/10..  Training Loss: 0.307..  Valid Loss: 0.233..  Valid Accuracy: 0.933  \n",
            "Epoch: 3/10..  Training Loss: 0.273..  Valid Loss: 0.210..  Valid Accuracy: 0.941  \n",
            "Epoch: 4/10..  Training Loss: 0.274..  Valid Loss: 0.198..  Valid Accuracy: 0.938  \n",
            "Epoch: 5/10..  Training Loss: 0.225..  Valid Loss: 0.192..  Valid Accuracy: 0.947  \n",
            "Epoch: 6/10..  Training Loss: 0.206..  Valid Loss: 0.218..  Valid Accuracy: 0.937  \n",
            "Epoch: 7/10..  Training Loss: 0.207..  Valid Loss: 0.184..  Valid Accuracy: 0.948  \n",
            "Epoch: 8/10..  Training Loss: 0.201..  Valid Loss: 0.209..  Valid Accuracy: 0.946  \n",
            "Epoch: 9/10..  Training Loss: 0.194..  Valid Loss: 0.206..  Valid Accuracy: 0.945  \n",
            "Epoch: 10/10..  Training Loss: 0.213..  Valid Loss: 0.207..  Valid Accuracy: 0.944  \n",
            "======================================================\n",
            " Training Teacher 10\n",
            "Epoch: 1/10..  Training Loss: 0.306..  Valid Loss: 0.144..  Valid Accuracy: 0.957  \n",
            "Epoch: 2/10..  Training Loss: 0.221..  Valid Loss: 0.137..  Valid Accuracy: 0.955  \n",
            "Epoch: 3/10..  Training Loss: 0.190..  Valid Loss: 0.135..  Valid Accuracy: 0.961  \n",
            "Epoch: 4/10..  Training Loss: 0.168..  Valid Loss: 0.119..  Valid Accuracy: 0.963  \n",
            "Epoch: 5/10..  Training Loss: 0.185..  Valid Loss: 0.161..  Valid Accuracy: 0.952  \n",
            "Epoch: 6/10..  Training Loss: 0.199..  Valid Loss: 0.129..  Valid Accuracy: 0.961  \n",
            "Epoch: 7/10..  Training Loss: 0.184..  Valid Loss: 0.154..  Valid Accuracy: 0.950  \n",
            "Epoch: 8/10..  Training Loss: 0.156..  Valid Loss: 0.127..  Valid Accuracy: 0.959  \n",
            "Epoch: 9/10..  Training Loss: 0.146..  Valid Loss: 0.122..  Valid Accuracy: 0.966  \n",
            "Epoch: 10/10..  Training Loss: 0.135..  Valid Loss: 0.128..  Valid Accuracy: 0.962  \n",
            "======================================================\n"
          ],
          "name": "stdout"
        }
      ]
    },
    {
      "cell_type": "markdown",
      "metadata": {
        "id": "aNCxZEsMkAQ2",
        "colab_type": "text"
      },
      "source": [
        "## Step 3: Get Private Student Labels "
      ]
    },
    {
      "cell_type": "code",
      "metadata": {
        "id": "xx5ZjFHkkFWJ",
        "colab_type": "code",
        "colab": {
          "base_uri": "https://localhost:8080/",
          "height": 35
        },
        "outputId": "5d67261f-dbff-4369-8db8-5dcfbc95e9d4"
      },
      "source": [
        "# get private labels\n",
        "def student_train_labels(teacher_models, dataloader):\n",
        "  student_labels = []\n",
        "  print(len(teacher_models))\n",
        "  for model in teacher_models:\n",
        "    student_label = []\n",
        "    # get label for each model\n",
        "    for images,_ in dataloader:\n",
        "      with torch.no_grad():\n",
        "        outputs = model(images)\n",
        "        preds = torch.argmax(torch.exp(outputs), dim=1)\n",
        "      student_label.append(preds.tolist())\n",
        "    student_label = sum(student_label, [])\n",
        "    student_labels.append(student_label)\n",
        "    #print(student_labels[0])\n",
        "    #print(len(student_labels))\n",
        "  return student_labels\n",
        "\n",
        "preds = student_train_labels(teacher_models, student_trainloader)     \n",
        "preds = np.array([np.array(p) for p in preds]).transpose(1, 0)\n"
      ],
      "execution_count": 67,
      "outputs": [
        {
          "output_type": "stream",
          "text": [
            "10\n"
          ],
          "name": "stdout"
        }
      ]
    },
    {
      "cell_type": "code",
      "metadata": {
        "id": "5ZsK5ef4Gghu",
        "colab_type": "code",
        "colab": {
          "base_uri": "https://localhost:8080/",
          "height": 70
        },
        "outputId": "ac1a5be8-0012-44b3-9eff-5a1fe001c060"
      },
      "source": [
        "print(len(student_trainloader))\n",
        "print(preds.shape)\n",
        "preds[1]"
      ],
      "execution_count": 66,
      "outputs": [
        {
          "output_type": "stream",
          "text": [
            "219\n",
            "(7000, 10)\n"
          ],
          "name": "stdout"
        },
        {
          "output_type": "execute_result",
          "data": {
            "text/plain": [
              "array([3, 7, 8, 3, 7, 4, 4, 2, 1, 2])"
            ]
          },
          "metadata": {
            "tags": []
          },
          "execution_count": 66
        }
      ]
    },
    {
      "cell_type": "code",
      "metadata": {
        "id": "-Kc5-0h1hkK-",
        "colab_type": "code",
        "colab": {
          "base_uri": "https://localhost:8080/",
          "height": 194
        },
        "outputId": "5f5c005d-f915-4627-d984-3781e1507d6d"
      },
      "source": [
        "def get_label_testset(models, testloader):\n",
        "  test_labels = []\n",
        "  for model in models:\n",
        "    test_label = []\n",
        "    for inputs, _ in testloader:\n",
        "      with torch.no_grad():\n",
        "        log_ps = model(inputs)\n",
        "        ps = torch.exp(log_ps)\n",
        "      top_p, top_class = ps.topk(1, dim=1)\n",
        "      #print(top_class.squeeze().tolist())\n",
        "      test_label.append(top_class.squeeze().tolist())\n",
        "      # print(test_label)\n",
        "      # break\n",
        "    test_label = sum(test_label, [])\n",
        "    #print(test_label)\n",
        "    test_labels.append(test_label)\n",
        "    #print(test_labels[0])\n",
        "    print(len(test_labels))\n",
        "    # break\n",
        "  return test_labels\n",
        "\n",
        "preds = get_label_testset(teacher_models, student_trainloader)\n",
        "preds = np.array([np.array(p) for p in preds]).transpose(1, 0)\n",
        "# print(len(student_trainloader))\n",
        "# print(preds.shape)\n",
        "# preds[1]"
      ],
      "execution_count": 62,
      "outputs": [
        {
          "output_type": "stream",
          "text": [
            "1\n",
            "2\n",
            "3\n",
            "4\n",
            "5\n",
            "6\n",
            "7\n",
            "8\n",
            "9\n",
            "10\n"
          ],
          "name": "stdout"
        }
      ]
    },
    {
      "cell_type": "markdown",
      "metadata": {
        "id": "_F99Sr27kGHu",
        "colab_type": "text"
      },
      "source": [
        "## Step 4: Add Laplacian Noise"
      ]
    },
    {
      "cell_type": "code",
      "metadata": {
        "id": "x-WP1kABkJ0h",
        "colab_type": "code",
        "colab": {}
      },
      "source": [
        ""
      ],
      "execution_count": 0,
      "outputs": []
    },
    {
      "cell_type": "markdown",
      "metadata": {
        "id": "tZlYVrfZkfF7",
        "colab_type": "text"
      },
      "source": [
        "## Step 5 Peform PATE Analysis"
      ]
    },
    {
      "cell_type": "code",
      "metadata": {
        "id": "Pj8M4w0GkY5F",
        "colab_type": "code",
        "colab": {}
      },
      "source": [
        ""
      ],
      "execution_count": 0,
      "outputs": []
    },
    {
      "cell_type": "markdown",
      "metadata": {
        "id": "fhh3PjvPkLgm",
        "colab_type": "text"
      },
      "source": [
        "## Step 6: Train **Student**"
      ]
    },
    {
      "cell_type": "code",
      "metadata": {
        "id": "hqgDXzDYkPYh",
        "colab_type": "code",
        "colab": {}
      },
      "source": [
        ""
      ],
      "execution_count": 0,
      "outputs": []
    },
    {
      "cell_type": "markdown",
      "metadata": {
        "id": "GFK7rHBLklXw",
        "colab_type": "text"
      },
      "source": [
        "# TRAIN MNIST NORMALLY"
      ]
    },
    {
      "cell_type": "markdown",
      "metadata": {
        "id": "BKXwjzJhkU-k",
        "colab_type": "text"
      },
      "source": [
        ""
      ]
    }
  ]
}