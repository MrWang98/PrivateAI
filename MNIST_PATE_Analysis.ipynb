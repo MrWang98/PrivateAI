{
  "nbformat": 4,
  "nbformat_minor": 0,
  "metadata": {
    "kernelspec": {
      "display_name": "Python [conda env:my_env]",
      "language": "python",
      "name": "conda-env-my_env-py"
    },
    "language_info": {
      "codemirror_mode": {
        "name": "ipython",
        "version": 3
      },
      "file_extension": ".py",
      "mimetype": "text/x-python",
      "name": "python",
      "nbconvert_exporter": "python",
      "pygments_lexer": "ipython3",
      "version": "3.7.3"
    },
    "colab": {
      "name": "MNIST_PATE_Analysis.ipynb",
      "provenance": [],
      "collapsed_sections": [],
      "include_colab_link": true
    },
    "accelerator": "GPU",
    "widgets": {
      "application/vnd.jupyter.widget-state+json": {
        "f4bf033e4a994e618f62c39f64abf3ca": {
          "model_module": "@jupyter-widgets/controls",
          "model_name": "HBoxModel",
          "state": {
            "_view_name": "HBoxView",
            "_dom_classes": [],
            "_model_name": "HBoxModel",
            "_view_module": "@jupyter-widgets/controls",
            "_model_module_version": "1.5.0",
            "_view_count": null,
            "_view_module_version": "1.5.0",
            "box_style": "",
            "layout": "IPY_MODEL_c9d6b515a13b43f28cdc359c51004406",
            "_model_module": "@jupyter-widgets/controls",
            "children": [
              "IPY_MODEL_ee2527da8a4046e4aa117a210854dd5e",
              "IPY_MODEL_2fa495c24fd24cc69dc92abf91147c91"
            ]
          }
        },
        "c9d6b515a13b43f28cdc359c51004406": {
          "model_module": "@jupyter-widgets/base",
          "model_name": "LayoutModel",
          "state": {
            "_view_name": "LayoutView",
            "grid_template_rows": null,
            "right": null,
            "justify_content": null,
            "_view_module": "@jupyter-widgets/base",
            "overflow": null,
            "_model_module_version": "1.2.0",
            "_view_count": null,
            "flex_flow": null,
            "width": null,
            "min_width": null,
            "border": null,
            "align_items": null,
            "bottom": null,
            "_model_module": "@jupyter-widgets/base",
            "top": null,
            "grid_column": null,
            "overflow_y": null,
            "overflow_x": null,
            "grid_auto_flow": null,
            "grid_area": null,
            "grid_template_columns": null,
            "flex": null,
            "_model_name": "LayoutModel",
            "justify_items": null,
            "grid_row": null,
            "max_height": null,
            "align_content": null,
            "visibility": null,
            "align_self": null,
            "height": null,
            "min_height": null,
            "padding": null,
            "grid_auto_rows": null,
            "grid_gap": null,
            "max_width": null,
            "order": null,
            "_view_module_version": "1.2.0",
            "grid_template_areas": null,
            "object_position": null,
            "object_fit": null,
            "grid_auto_columns": null,
            "margin": null,
            "display": null,
            "left": null
          }
        },
        "ee2527da8a4046e4aa117a210854dd5e": {
          "model_module": "@jupyter-widgets/controls",
          "model_name": "IntProgressModel",
          "state": {
            "_view_name": "ProgressView",
            "style": "IPY_MODEL_95f0f4fd8c5d49a5bdde0515c725a492",
            "_dom_classes": [],
            "description": "",
            "_model_name": "IntProgressModel",
            "bar_style": "info",
            "max": 1,
            "_view_module": "@jupyter-widgets/controls",
            "_model_module_version": "1.5.0",
            "value": 1,
            "_view_count": null,
            "_view_module_version": "1.5.0",
            "orientation": "horizontal",
            "min": 0,
            "description_tooltip": null,
            "_model_module": "@jupyter-widgets/controls",
            "layout": "IPY_MODEL_2eb0ca286829425eaf5b0d9fdff2bcc9"
          }
        },
        "2fa495c24fd24cc69dc92abf91147c91": {
          "model_module": "@jupyter-widgets/controls",
          "model_name": "HTMLModel",
          "state": {
            "_view_name": "HTMLView",
            "style": "IPY_MODEL_faebf55da52540c19919c05ee91c93e5",
            "_dom_classes": [],
            "description": "",
            "_model_name": "HTMLModel",
            "placeholder": "​",
            "_view_module": "@jupyter-widgets/controls",
            "_model_module_version": "1.5.0",
            "value": " 9920512/? [00:20&lt;00:00, 2172549.72it/s]",
            "_view_count": null,
            "_view_module_version": "1.5.0",
            "description_tooltip": null,
            "_model_module": "@jupyter-widgets/controls",
            "layout": "IPY_MODEL_94f5a0293d314fb69ce9008bda1e6d56"
          }
        },
        "95f0f4fd8c5d49a5bdde0515c725a492": {
          "model_module": "@jupyter-widgets/controls",
          "model_name": "ProgressStyleModel",
          "state": {
            "_view_name": "StyleView",
            "_model_name": "ProgressStyleModel",
            "description_width": "initial",
            "_view_module": "@jupyter-widgets/base",
            "_model_module_version": "1.5.0",
            "_view_count": null,
            "_view_module_version": "1.2.0",
            "bar_color": null,
            "_model_module": "@jupyter-widgets/controls"
          }
        },
        "2eb0ca286829425eaf5b0d9fdff2bcc9": {
          "model_module": "@jupyter-widgets/base",
          "model_name": "LayoutModel",
          "state": {
            "_view_name": "LayoutView",
            "grid_template_rows": null,
            "right": null,
            "justify_content": null,
            "_view_module": "@jupyter-widgets/base",
            "overflow": null,
            "_model_module_version": "1.2.0",
            "_view_count": null,
            "flex_flow": null,
            "width": null,
            "min_width": null,
            "border": null,
            "align_items": null,
            "bottom": null,
            "_model_module": "@jupyter-widgets/base",
            "top": null,
            "grid_column": null,
            "overflow_y": null,
            "overflow_x": null,
            "grid_auto_flow": null,
            "grid_area": null,
            "grid_template_columns": null,
            "flex": null,
            "_model_name": "LayoutModel",
            "justify_items": null,
            "grid_row": null,
            "max_height": null,
            "align_content": null,
            "visibility": null,
            "align_self": null,
            "height": null,
            "min_height": null,
            "padding": null,
            "grid_auto_rows": null,
            "grid_gap": null,
            "max_width": null,
            "order": null,
            "_view_module_version": "1.2.0",
            "grid_template_areas": null,
            "object_position": null,
            "object_fit": null,
            "grid_auto_columns": null,
            "margin": null,
            "display": null,
            "left": null
          }
        },
        "faebf55da52540c19919c05ee91c93e5": {
          "model_module": "@jupyter-widgets/controls",
          "model_name": "DescriptionStyleModel",
          "state": {
            "_view_name": "StyleView",
            "_model_name": "DescriptionStyleModel",
            "description_width": "",
            "_view_module": "@jupyter-widgets/base",
            "_model_module_version": "1.5.0",
            "_view_count": null,
            "_view_module_version": "1.2.0",
            "_model_module": "@jupyter-widgets/controls"
          }
        },
        "94f5a0293d314fb69ce9008bda1e6d56": {
          "model_module": "@jupyter-widgets/base",
          "model_name": "LayoutModel",
          "state": {
            "_view_name": "LayoutView",
            "grid_template_rows": null,
            "right": null,
            "justify_content": null,
            "_view_module": "@jupyter-widgets/base",
            "overflow": null,
            "_model_module_version": "1.2.0",
            "_view_count": null,
            "flex_flow": null,
            "width": null,
            "min_width": null,
            "border": null,
            "align_items": null,
            "bottom": null,
            "_model_module": "@jupyter-widgets/base",
            "top": null,
            "grid_column": null,
            "overflow_y": null,
            "overflow_x": null,
            "grid_auto_flow": null,
            "grid_area": null,
            "grid_template_columns": null,
            "flex": null,
            "_model_name": "LayoutModel",
            "justify_items": null,
            "grid_row": null,
            "max_height": null,
            "align_content": null,
            "visibility": null,
            "align_self": null,
            "height": null,
            "min_height": null,
            "padding": null,
            "grid_auto_rows": null,
            "grid_gap": null,
            "max_width": null,
            "order": null,
            "_view_module_version": "1.2.0",
            "grid_template_areas": null,
            "object_position": null,
            "object_fit": null,
            "grid_auto_columns": null,
            "margin": null,
            "display": null,
            "left": null
          }
        },
        "3ab163fdb75241cb8cbe1ef83eb49c95": {
          "model_module": "@jupyter-widgets/controls",
          "model_name": "HBoxModel",
          "state": {
            "_view_name": "HBoxView",
            "_dom_classes": [],
            "_model_name": "HBoxModel",
            "_view_module": "@jupyter-widgets/controls",
            "_model_module_version": "1.5.0",
            "_view_count": null,
            "_view_module_version": "1.5.0",
            "box_style": "",
            "layout": "IPY_MODEL_70584318e72940b791ba4ec82d3ec372",
            "_model_module": "@jupyter-widgets/controls",
            "children": [
              "IPY_MODEL_e48242501aa64cf390d22f98b6f6d588",
              "IPY_MODEL_b67a238c97df43bc80fc0f17a06ebff3"
            ]
          }
        },
        "70584318e72940b791ba4ec82d3ec372": {
          "model_module": "@jupyter-widgets/base",
          "model_name": "LayoutModel",
          "state": {
            "_view_name": "LayoutView",
            "grid_template_rows": null,
            "right": null,
            "justify_content": null,
            "_view_module": "@jupyter-widgets/base",
            "overflow": null,
            "_model_module_version": "1.2.0",
            "_view_count": null,
            "flex_flow": null,
            "width": null,
            "min_width": null,
            "border": null,
            "align_items": null,
            "bottom": null,
            "_model_module": "@jupyter-widgets/base",
            "top": null,
            "grid_column": null,
            "overflow_y": null,
            "overflow_x": null,
            "grid_auto_flow": null,
            "grid_area": null,
            "grid_template_columns": null,
            "flex": null,
            "_model_name": "LayoutModel",
            "justify_items": null,
            "grid_row": null,
            "max_height": null,
            "align_content": null,
            "visibility": null,
            "align_self": null,
            "height": null,
            "min_height": null,
            "padding": null,
            "grid_auto_rows": null,
            "grid_gap": null,
            "max_width": null,
            "order": null,
            "_view_module_version": "1.2.0",
            "grid_template_areas": null,
            "object_position": null,
            "object_fit": null,
            "grid_auto_columns": null,
            "margin": null,
            "display": null,
            "left": null
          }
        },
        "e48242501aa64cf390d22f98b6f6d588": {
          "model_module": "@jupyter-widgets/controls",
          "model_name": "IntProgressModel",
          "state": {
            "_view_name": "ProgressView",
            "style": "IPY_MODEL_36e2e0c2c03f4563a710231c41f09c39",
            "_dom_classes": [],
            "description": "",
            "_model_name": "IntProgressModel",
            "bar_style": "info",
            "max": 1,
            "_view_module": "@jupyter-widgets/controls",
            "_model_module_version": "1.5.0",
            "value": 1,
            "_view_count": null,
            "_view_module_version": "1.5.0",
            "orientation": "horizontal",
            "min": 0,
            "description_tooltip": null,
            "_model_module": "@jupyter-widgets/controls",
            "layout": "IPY_MODEL_12f273d0b5054d92ad23b819ee8bc309"
          }
        },
        "b67a238c97df43bc80fc0f17a06ebff3": {
          "model_module": "@jupyter-widgets/controls",
          "model_name": "HTMLModel",
          "state": {
            "_view_name": "HTMLView",
            "style": "IPY_MODEL_2319ffbd33d343009611c253a9b9c058",
            "_dom_classes": [],
            "description": "",
            "_model_name": "HTMLModel",
            "placeholder": "​",
            "_view_module": "@jupyter-widgets/controls",
            "_model_module_version": "1.5.0",
            "value": " 32768/? [00:16&lt;00:00, 78854.58it/s]",
            "_view_count": null,
            "_view_module_version": "1.5.0",
            "description_tooltip": null,
            "_model_module": "@jupyter-widgets/controls",
            "layout": "IPY_MODEL_93ecd8d8b38f453e8296340f2048a431"
          }
        },
        "36e2e0c2c03f4563a710231c41f09c39": {
          "model_module": "@jupyter-widgets/controls",
          "model_name": "ProgressStyleModel",
          "state": {
            "_view_name": "StyleView",
            "_model_name": "ProgressStyleModel",
            "description_width": "initial",
            "_view_module": "@jupyter-widgets/base",
            "_model_module_version": "1.5.0",
            "_view_count": null,
            "_view_module_version": "1.2.0",
            "bar_color": null,
            "_model_module": "@jupyter-widgets/controls"
          }
        },
        "12f273d0b5054d92ad23b819ee8bc309": {
          "model_module": "@jupyter-widgets/base",
          "model_name": "LayoutModel",
          "state": {
            "_view_name": "LayoutView",
            "grid_template_rows": null,
            "right": null,
            "justify_content": null,
            "_view_module": "@jupyter-widgets/base",
            "overflow": null,
            "_model_module_version": "1.2.0",
            "_view_count": null,
            "flex_flow": null,
            "width": null,
            "min_width": null,
            "border": null,
            "align_items": null,
            "bottom": null,
            "_model_module": "@jupyter-widgets/base",
            "top": null,
            "grid_column": null,
            "overflow_y": null,
            "overflow_x": null,
            "grid_auto_flow": null,
            "grid_area": null,
            "grid_template_columns": null,
            "flex": null,
            "_model_name": "LayoutModel",
            "justify_items": null,
            "grid_row": null,
            "max_height": null,
            "align_content": null,
            "visibility": null,
            "align_self": null,
            "height": null,
            "min_height": null,
            "padding": null,
            "grid_auto_rows": null,
            "grid_gap": null,
            "max_width": null,
            "order": null,
            "_view_module_version": "1.2.0",
            "grid_template_areas": null,
            "object_position": null,
            "object_fit": null,
            "grid_auto_columns": null,
            "margin": null,
            "display": null,
            "left": null
          }
        },
        "2319ffbd33d343009611c253a9b9c058": {
          "model_module": "@jupyter-widgets/controls",
          "model_name": "DescriptionStyleModel",
          "state": {
            "_view_name": "StyleView",
            "_model_name": "DescriptionStyleModel",
            "description_width": "",
            "_view_module": "@jupyter-widgets/base",
            "_model_module_version": "1.5.0",
            "_view_count": null,
            "_view_module_version": "1.2.0",
            "_model_module": "@jupyter-widgets/controls"
          }
        },
        "93ecd8d8b38f453e8296340f2048a431": {
          "model_module": "@jupyter-widgets/base",
          "model_name": "LayoutModel",
          "state": {
            "_view_name": "LayoutView",
            "grid_template_rows": null,
            "right": null,
            "justify_content": null,
            "_view_module": "@jupyter-widgets/base",
            "overflow": null,
            "_model_module_version": "1.2.0",
            "_view_count": null,
            "flex_flow": null,
            "width": null,
            "min_width": null,
            "border": null,
            "align_items": null,
            "bottom": null,
            "_model_module": "@jupyter-widgets/base",
            "top": null,
            "grid_column": null,
            "overflow_y": null,
            "overflow_x": null,
            "grid_auto_flow": null,
            "grid_area": null,
            "grid_template_columns": null,
            "flex": null,
            "_model_name": "LayoutModel",
            "justify_items": null,
            "grid_row": null,
            "max_height": null,
            "align_content": null,
            "visibility": null,
            "align_self": null,
            "height": null,
            "min_height": null,
            "padding": null,
            "grid_auto_rows": null,
            "grid_gap": null,
            "max_width": null,
            "order": null,
            "_view_module_version": "1.2.0",
            "grid_template_areas": null,
            "object_position": null,
            "object_fit": null,
            "grid_auto_columns": null,
            "margin": null,
            "display": null,
            "left": null
          }
        },
        "8ae17eac8c714ec5ba4a6d0da11d54d0": {
          "model_module": "@jupyter-widgets/controls",
          "model_name": "HBoxModel",
          "state": {
            "_view_name": "HBoxView",
            "_dom_classes": [],
            "_model_name": "HBoxModel",
            "_view_module": "@jupyter-widgets/controls",
            "_model_module_version": "1.5.0",
            "_view_count": null,
            "_view_module_version": "1.5.0",
            "box_style": "",
            "layout": "IPY_MODEL_62153c3d52b4434a9392c02ead3477a0",
            "_model_module": "@jupyter-widgets/controls",
            "children": [
              "IPY_MODEL_f9e3cc56e4cb41938fc4dd22ea3ead10",
              "IPY_MODEL_7445978697e04d12be897c6eeb1d4a64"
            ]
          }
        },
        "62153c3d52b4434a9392c02ead3477a0": {
          "model_module": "@jupyter-widgets/base",
          "model_name": "LayoutModel",
          "state": {
            "_view_name": "LayoutView",
            "grid_template_rows": null,
            "right": null,
            "justify_content": null,
            "_view_module": "@jupyter-widgets/base",
            "overflow": null,
            "_model_module_version": "1.2.0",
            "_view_count": null,
            "flex_flow": null,
            "width": null,
            "min_width": null,
            "border": null,
            "align_items": null,
            "bottom": null,
            "_model_module": "@jupyter-widgets/base",
            "top": null,
            "grid_column": null,
            "overflow_y": null,
            "overflow_x": null,
            "grid_auto_flow": null,
            "grid_area": null,
            "grid_template_columns": null,
            "flex": null,
            "_model_name": "LayoutModel",
            "justify_items": null,
            "grid_row": null,
            "max_height": null,
            "align_content": null,
            "visibility": null,
            "align_self": null,
            "height": null,
            "min_height": null,
            "padding": null,
            "grid_auto_rows": null,
            "grid_gap": null,
            "max_width": null,
            "order": null,
            "_view_module_version": "1.2.0",
            "grid_template_areas": null,
            "object_position": null,
            "object_fit": null,
            "grid_auto_columns": null,
            "margin": null,
            "display": null,
            "left": null
          }
        },
        "f9e3cc56e4cb41938fc4dd22ea3ead10": {
          "model_module": "@jupyter-widgets/controls",
          "model_name": "IntProgressModel",
          "state": {
            "_view_name": "ProgressView",
            "style": "IPY_MODEL_c3280a6bc9954a018583ca3db683dd3e",
            "_dom_classes": [],
            "description": "",
            "_model_name": "IntProgressModel",
            "bar_style": "success",
            "max": 1,
            "_view_module": "@jupyter-widgets/controls",
            "_model_module_version": "1.5.0",
            "value": 1,
            "_view_count": null,
            "_view_module_version": "1.5.0",
            "orientation": "horizontal",
            "min": 0,
            "description_tooltip": null,
            "_model_module": "@jupyter-widgets/controls",
            "layout": "IPY_MODEL_a8de5596ce9e4bae9652dcdac062df83"
          }
        },
        "7445978697e04d12be897c6eeb1d4a64": {
          "model_module": "@jupyter-widgets/controls",
          "model_name": "HTMLModel",
          "state": {
            "_view_name": "HTMLView",
            "style": "IPY_MODEL_5966380647f34fdeb2f4c43a3f03d4c0",
            "_dom_classes": [],
            "description": "",
            "_model_name": "HTMLModel",
            "placeholder": "​",
            "_view_module": "@jupyter-widgets/controls",
            "_model_module_version": "1.5.0",
            "value": " 1654784/? [00:02&lt;00:00, 650026.57it/s]",
            "_view_count": null,
            "_view_module_version": "1.5.0",
            "description_tooltip": null,
            "_model_module": "@jupyter-widgets/controls",
            "layout": "IPY_MODEL_8d2ba7ed1c2e4819b3a83ba99217ca8f"
          }
        },
        "c3280a6bc9954a018583ca3db683dd3e": {
          "model_module": "@jupyter-widgets/controls",
          "model_name": "ProgressStyleModel",
          "state": {
            "_view_name": "StyleView",
            "_model_name": "ProgressStyleModel",
            "description_width": "initial",
            "_view_module": "@jupyter-widgets/base",
            "_model_module_version": "1.5.0",
            "_view_count": null,
            "_view_module_version": "1.2.0",
            "bar_color": null,
            "_model_module": "@jupyter-widgets/controls"
          }
        },
        "a8de5596ce9e4bae9652dcdac062df83": {
          "model_module": "@jupyter-widgets/base",
          "model_name": "LayoutModel",
          "state": {
            "_view_name": "LayoutView",
            "grid_template_rows": null,
            "right": null,
            "justify_content": null,
            "_view_module": "@jupyter-widgets/base",
            "overflow": null,
            "_model_module_version": "1.2.0",
            "_view_count": null,
            "flex_flow": null,
            "width": null,
            "min_width": null,
            "border": null,
            "align_items": null,
            "bottom": null,
            "_model_module": "@jupyter-widgets/base",
            "top": null,
            "grid_column": null,
            "overflow_y": null,
            "overflow_x": null,
            "grid_auto_flow": null,
            "grid_area": null,
            "grid_template_columns": null,
            "flex": null,
            "_model_name": "LayoutModel",
            "justify_items": null,
            "grid_row": null,
            "max_height": null,
            "align_content": null,
            "visibility": null,
            "align_self": null,
            "height": null,
            "min_height": null,
            "padding": null,
            "grid_auto_rows": null,
            "grid_gap": null,
            "max_width": null,
            "order": null,
            "_view_module_version": "1.2.0",
            "grid_template_areas": null,
            "object_position": null,
            "object_fit": null,
            "grid_auto_columns": null,
            "margin": null,
            "display": null,
            "left": null
          }
        },
        "5966380647f34fdeb2f4c43a3f03d4c0": {
          "model_module": "@jupyter-widgets/controls",
          "model_name": "DescriptionStyleModel",
          "state": {
            "_view_name": "StyleView",
            "_model_name": "DescriptionStyleModel",
            "description_width": "",
            "_view_module": "@jupyter-widgets/base",
            "_model_module_version": "1.5.0",
            "_view_count": null,
            "_view_module_version": "1.2.0",
            "_model_module": "@jupyter-widgets/controls"
          }
        },
        "8d2ba7ed1c2e4819b3a83ba99217ca8f": {
          "model_module": "@jupyter-widgets/base",
          "model_name": "LayoutModel",
          "state": {
            "_view_name": "LayoutView",
            "grid_template_rows": null,
            "right": null,
            "justify_content": null,
            "_view_module": "@jupyter-widgets/base",
            "overflow": null,
            "_model_module_version": "1.2.0",
            "_view_count": null,
            "flex_flow": null,
            "width": null,
            "min_width": null,
            "border": null,
            "align_items": null,
            "bottom": null,
            "_model_module": "@jupyter-widgets/base",
            "top": null,
            "grid_column": null,
            "overflow_y": null,
            "overflow_x": null,
            "grid_auto_flow": null,
            "grid_area": null,
            "grid_template_columns": null,
            "flex": null,
            "_model_name": "LayoutModel",
            "justify_items": null,
            "grid_row": null,
            "max_height": null,
            "align_content": null,
            "visibility": null,
            "align_self": null,
            "height": null,
            "min_height": null,
            "padding": null,
            "grid_auto_rows": null,
            "grid_gap": null,
            "max_width": null,
            "order": null,
            "_view_module_version": "1.2.0",
            "grid_template_areas": null,
            "object_position": null,
            "object_fit": null,
            "grid_auto_columns": null,
            "margin": null,
            "display": null,
            "left": null
          }
        },
        "fed817c3c71b4692bb13134d60c2fe93": {
          "model_module": "@jupyter-widgets/controls",
          "model_name": "HBoxModel",
          "state": {
            "_view_name": "HBoxView",
            "_dom_classes": [],
            "_model_name": "HBoxModel",
            "_view_module": "@jupyter-widgets/controls",
            "_model_module_version": "1.5.0",
            "_view_count": null,
            "_view_module_version": "1.5.0",
            "box_style": "",
            "layout": "IPY_MODEL_6556b2c894094246be69c1c20e42203a",
            "_model_module": "@jupyter-widgets/controls",
            "children": [
              "IPY_MODEL_0c885e43946441dabe04a91cbfda954e",
              "IPY_MODEL_bbc6dcb8545443d3975221b3b6785c82"
            ]
          }
        },
        "6556b2c894094246be69c1c20e42203a": {
          "model_module": "@jupyter-widgets/base",
          "model_name": "LayoutModel",
          "state": {
            "_view_name": "LayoutView",
            "grid_template_rows": null,
            "right": null,
            "justify_content": null,
            "_view_module": "@jupyter-widgets/base",
            "overflow": null,
            "_model_module_version": "1.2.0",
            "_view_count": null,
            "flex_flow": null,
            "width": null,
            "min_width": null,
            "border": null,
            "align_items": null,
            "bottom": null,
            "_model_module": "@jupyter-widgets/base",
            "top": null,
            "grid_column": null,
            "overflow_y": null,
            "overflow_x": null,
            "grid_auto_flow": null,
            "grid_area": null,
            "grid_template_columns": null,
            "flex": null,
            "_model_name": "LayoutModel",
            "justify_items": null,
            "grid_row": null,
            "max_height": null,
            "align_content": null,
            "visibility": null,
            "align_self": null,
            "height": null,
            "min_height": null,
            "padding": null,
            "grid_auto_rows": null,
            "grid_gap": null,
            "max_width": null,
            "order": null,
            "_view_module_version": "1.2.0",
            "grid_template_areas": null,
            "object_position": null,
            "object_fit": null,
            "grid_auto_columns": null,
            "margin": null,
            "display": null,
            "left": null
          }
        },
        "0c885e43946441dabe04a91cbfda954e": {
          "model_module": "@jupyter-widgets/controls",
          "model_name": "IntProgressModel",
          "state": {
            "_view_name": "ProgressView",
            "style": "IPY_MODEL_6761e4e4193b469b993e4c40f52dd184",
            "_dom_classes": [],
            "description": "",
            "_model_name": "IntProgressModel",
            "bar_style": "success",
            "max": 1,
            "_view_module": "@jupyter-widgets/controls",
            "_model_module_version": "1.5.0",
            "value": 1,
            "_view_count": null,
            "_view_module_version": "1.5.0",
            "orientation": "horizontal",
            "min": 0,
            "description_tooltip": null,
            "_model_module": "@jupyter-widgets/controls",
            "layout": "IPY_MODEL_c7be3a4e99a745e9bd56f64e69997a18"
          }
        },
        "bbc6dcb8545443d3975221b3b6785c82": {
          "model_module": "@jupyter-widgets/controls",
          "model_name": "HTMLModel",
          "state": {
            "_view_name": "HTMLView",
            "style": "IPY_MODEL_7fddf9fb8ff541b292fa402c553cf28f",
            "_dom_classes": [],
            "description": "",
            "_model_name": "HTMLModel",
            "placeholder": "​",
            "_view_module": "@jupyter-widgets/controls",
            "_model_module_version": "1.5.0",
            "value": " 8192/? [00:00&lt;00:00, 10941.69it/s]",
            "_view_count": null,
            "_view_module_version": "1.5.0",
            "description_tooltip": null,
            "_model_module": "@jupyter-widgets/controls",
            "layout": "IPY_MODEL_2277bbbb48db4ec3acd9b614cf528bf4"
          }
        },
        "6761e4e4193b469b993e4c40f52dd184": {
          "model_module": "@jupyter-widgets/controls",
          "model_name": "ProgressStyleModel",
          "state": {
            "_view_name": "StyleView",
            "_model_name": "ProgressStyleModel",
            "description_width": "initial",
            "_view_module": "@jupyter-widgets/base",
            "_model_module_version": "1.5.0",
            "_view_count": null,
            "_view_module_version": "1.2.0",
            "bar_color": null,
            "_model_module": "@jupyter-widgets/controls"
          }
        },
        "c7be3a4e99a745e9bd56f64e69997a18": {
          "model_module": "@jupyter-widgets/base",
          "model_name": "LayoutModel",
          "state": {
            "_view_name": "LayoutView",
            "grid_template_rows": null,
            "right": null,
            "justify_content": null,
            "_view_module": "@jupyter-widgets/base",
            "overflow": null,
            "_model_module_version": "1.2.0",
            "_view_count": null,
            "flex_flow": null,
            "width": null,
            "min_width": null,
            "border": null,
            "align_items": null,
            "bottom": null,
            "_model_module": "@jupyter-widgets/base",
            "top": null,
            "grid_column": null,
            "overflow_y": null,
            "overflow_x": null,
            "grid_auto_flow": null,
            "grid_area": null,
            "grid_template_columns": null,
            "flex": null,
            "_model_name": "LayoutModel",
            "justify_items": null,
            "grid_row": null,
            "max_height": null,
            "align_content": null,
            "visibility": null,
            "align_self": null,
            "height": null,
            "min_height": null,
            "padding": null,
            "grid_auto_rows": null,
            "grid_gap": null,
            "max_width": null,
            "order": null,
            "_view_module_version": "1.2.0",
            "grid_template_areas": null,
            "object_position": null,
            "object_fit": null,
            "grid_auto_columns": null,
            "margin": null,
            "display": null,
            "left": null
          }
        },
        "7fddf9fb8ff541b292fa402c553cf28f": {
          "model_module": "@jupyter-widgets/controls",
          "model_name": "DescriptionStyleModel",
          "state": {
            "_view_name": "StyleView",
            "_model_name": "DescriptionStyleModel",
            "description_width": "",
            "_view_module": "@jupyter-widgets/base",
            "_model_module_version": "1.5.0",
            "_view_count": null,
            "_view_module_version": "1.2.0",
            "_model_module": "@jupyter-widgets/controls"
          }
        },
        "2277bbbb48db4ec3acd9b614cf528bf4": {
          "model_module": "@jupyter-widgets/base",
          "model_name": "LayoutModel",
          "state": {
            "_view_name": "LayoutView",
            "grid_template_rows": null,
            "right": null,
            "justify_content": null,
            "_view_module": "@jupyter-widgets/base",
            "overflow": null,
            "_model_module_version": "1.2.0",
            "_view_count": null,
            "flex_flow": null,
            "width": null,
            "min_width": null,
            "border": null,
            "align_items": null,
            "bottom": null,
            "_model_module": "@jupyter-widgets/base",
            "top": null,
            "grid_column": null,
            "overflow_y": null,
            "overflow_x": null,
            "grid_auto_flow": null,
            "grid_area": null,
            "grid_template_columns": null,
            "flex": null,
            "_model_name": "LayoutModel",
            "justify_items": null,
            "grid_row": null,
            "max_height": null,
            "align_content": null,
            "visibility": null,
            "align_self": null,
            "height": null,
            "min_height": null,
            "padding": null,
            "grid_auto_rows": null,
            "grid_gap": null,
            "max_width": null,
            "order": null,
            "_view_module_version": "1.2.0",
            "grid_template_areas": null,
            "object_position": null,
            "object_fit": null,
            "grid_auto_columns": null,
            "margin": null,
            "display": null,
            "left": null
          }
        }
      }
    }
  },
  "cells": [
    {
      "cell_type": "markdown",
      "metadata": {
        "id": "view-in-github",
        "colab_type": "text"
      },
      "source": [
        "<a href=\"https://colab.research.google.com/github/ivyclare/PrivateAI/blob/master/MNIST_PATE_Analysis.ipynb\" target=\"_parent\"><img src=\"https://colab.research.google.com/assets/colab-badge.svg\" alt=\"Open In Colab\"/></a>"
      ]
    },
    {
      "cell_type": "markdown",
      "metadata": {
        "id": "bZi32riIbuSu",
        "colab_type": "text"
      },
      "source": [
        "### PATE Analysis on MNIST"
      ]
    },
    {
      "cell_type": "markdown",
      "metadata": {
        "id": "vuz3kCT6buSv",
        "colab_type": "text"
      },
      "source": [
        "http://www.cleverhans.io/privacy/2018/04/29/privacy-and-machine-learning.html\n",
        "Our PATE approach at providing differential privacy to machine learning is based on a simple intuition: if two different classifiers, trained on two different datasets with no training examples in common, agree on how to classify a new input example, then that decision does not reveal information about any single training example. The decision could have been made with or without any single training example, because both the model trained with that example and the model trained without that example reached the same conclusion.\n",
        "\n",
        "===================="
      ]
    },
    {
      "cell_type": "markdown",
      "metadata": {
        "id": "jWHMA7l8buSw",
        "colab_type": "text"
      },
      "source": [
        "In order to train MNIST in a differentially private manner, we need 2 main components; private datasets (teachers) and public unlabelled dataset (student). MNIST is divided into train and test data. Hence, we'll have to create the teacher and student datasets ourselves. \n",
        "\n",
        "We will follow the steps below, to create a privacy preserving MNIST deep learning model:\n",
        "\n",
        "- Create the teacher and student datasets\n",
        "    - The training data is divided into non-overlapping subsets\n",
        "- "
      ]
    },
    {
      "cell_type": "code",
      "metadata": {
        "id": "edWQXHlyiHqN",
        "colab_type": "code",
        "colab": {
          "base_uri": "https://localhost:8080/",
          "height": 1000
        },
        "outputId": "11c05842-97a2-48d1-a743-82e61f43c0e9"
      },
      "source": [
        "# install syft package to use Private Aggregation of Teacher Ensembles (PATE)\n",
        "!pip install syft"
      ],
      "execution_count": 26,
      "outputs": [
        {
          "output_type": "stream",
          "text": [
            "Collecting syft\n",
            "\u001b[?25l  Downloading https://files.pythonhosted.org/packages/1f/8b/dc9a253392908d480322466832d618d85cdb1b66a1781604cf1064b50c32/syft-0.2.4-py3-none-any.whl (341kB)\n",
            "\u001b[K     |████████████████████████████████| 348kB 2.8MB/s \n",
            "\u001b[?25hRequirement already satisfied: msgpack~=1.0.0 in /usr/local/lib/python3.6/dist-packages (from syft) (1.0.0)\n",
            "Collecting Pillow~=6.2.2\n",
            "\u001b[?25l  Downloading https://files.pythonhosted.org/packages/8a/fd/bbbc569f98f47813c50a116b539d97b3b17a86ac7a309f83b2022d26caf2/Pillow-6.2.2-cp36-cp36m-manylinux1_x86_64.whl (2.1MB)\n",
            "\u001b[K     |████████████████████████████████| 2.1MB 38.8MB/s \n",
            "\u001b[?25hCollecting requests~=2.22.0\n",
            "\u001b[?25l  Downloading https://files.pythonhosted.org/packages/51/bd/23c926cd341ea6b7dd0b2a00aba99ae0f828be89d72b2190f27c11d4b7fb/requests-2.22.0-py2.py3-none-any.whl (57kB)\n",
            "\u001b[K     |████████████████████████████████| 61kB 7.7MB/s \n",
            "\u001b[?25hRequirement already satisfied: scipy~=1.4.1 in /usr/local/lib/python3.6/dist-packages (from syft) (1.4.1)\n",
            "Collecting flask-socketio~=4.2.1\n",
            "  Downloading https://files.pythonhosted.org/packages/66/44/edc4715af85671b943c18ac8345d0207972284a0cd630126ff5251faa08b/Flask_SocketIO-4.2.1-py2.py3-none-any.whl\n",
            "Requirement already satisfied: tornado==4.5.3 in /usr/local/lib/python3.6/dist-packages (from syft) (4.5.3)\n",
            "Requirement already satisfied: Flask~=1.1.1 in /usr/local/lib/python3.6/dist-packages (from syft) (1.1.2)\n",
            "Collecting syft-proto~=0.2.5.a1\n",
            "\u001b[?25l  Downloading https://files.pythonhosted.org/packages/c7/ab/849e6ef6c0e7af1a2a1d7a18f478fa07cd2217ed63867ab101ad5abff302/syft_proto-0.2.5a1-py3-none-any.whl (43kB)\n",
            "\u001b[K     |████████████████████████████████| 51kB 7.3MB/s \n",
            "\u001b[?25hCollecting torchvision~=0.5.0\n",
            "\u001b[?25l  Downloading https://files.pythonhosted.org/packages/7e/90/6141bf41f5655c78e24f40f710fdd4f8a8aff6c8b7c6f0328240f649bdbe/torchvision-0.5.0-cp36-cp36m-manylinux1_x86_64.whl (4.0MB)\n",
            "\u001b[K     |████████████████████████████████| 4.0MB 37.6MB/s \n",
            "\u001b[?25hCollecting phe~=1.4.0\n",
            "  Downloading https://files.pythonhosted.org/packages/32/0e/568e97b014eb14e794a1258a341361e9da351dc6240c63b89e1541e3341c/phe-1.4.0.tar.gz\n",
            "Requirement already satisfied: numpy~=1.18.1 in /usr/local/lib/python3.6/dist-packages (from syft) (1.18.3)\n",
            "Requirement already satisfied: tblib~=1.6.0 in /usr/local/lib/python3.6/dist-packages (from syft) (1.6.0)\n",
            "Collecting websockets~=8.1.0\n",
            "\u001b[?25l  Downloading https://files.pythonhosted.org/packages/bb/d9/856af84843912e2853b1b6e898ac8b802989fcf9ecf8e8445a1da263bf3b/websockets-8.1-cp36-cp36m-manylinux2010_x86_64.whl (78kB)\n",
            "\u001b[K     |████████████████████████████████| 81kB 9.8MB/s \n",
            "\u001b[?25hCollecting websocket-client~=0.57.0\n",
            "\u001b[?25l  Downloading https://files.pythonhosted.org/packages/4c/5f/f61b420143ed1c8dc69f9eaec5ff1ac36109d52c80de49d66e0c36c3dfdf/websocket_client-0.57.0-py2.py3-none-any.whl (200kB)\n",
            "\u001b[K     |████████████████████████████████| 204kB 44.8MB/s \n",
            "\u001b[?25hCollecting torch~=1.4.0\n",
            "\u001b[?25l  Downloading https://files.pythonhosted.org/packages/24/19/4804aea17cd136f1705a5e98a00618cb8f6ccc375ad8bfa437408e09d058/torch-1.4.0-cp36-cp36m-manylinux1_x86_64.whl (753.4MB)\n",
            "\u001b[K     |████████████████████████████████| 753.4MB 23kB/s \n",
            "\u001b[?25hCollecting lz4~=3.0.2\n",
            "\u001b[?25l  Downloading https://files.pythonhosted.org/packages/e7/81/011fef8766fb0ef681037ad6fee96168ee03a864464986cbaa23e5357704/lz4-3.0.2-cp36-cp36m-manylinux2010_x86_64.whl (1.8MB)\n",
            "\u001b[K     |████████████████████████████████| 1.8MB 35.1MB/s \n",
            "\u001b[?25hRequirement already satisfied: certifi>=2017.4.17 in /usr/local/lib/python3.6/dist-packages (from requests~=2.22.0->syft) (2020.4.5.1)\n",
            "Requirement already satisfied: urllib3!=1.25.0,!=1.25.1,<1.26,>=1.21.1 in /usr/local/lib/python3.6/dist-packages (from requests~=2.22.0->syft) (1.24.3)\n",
            "Requirement already satisfied: idna<2.9,>=2.5 in /usr/local/lib/python3.6/dist-packages (from requests~=2.22.0->syft) (2.8)\n",
            "Requirement already satisfied: chardet<3.1.0,>=3.0.2 in /usr/local/lib/python3.6/dist-packages (from requests~=2.22.0->syft) (3.0.4)\n",
            "Collecting python-socketio>=4.3.0\n",
            "\u001b[?25l  Downloading https://files.pythonhosted.org/packages/10/cb/631c0b713daea3938e66d4c0923e88f3c0b57b026f860ea76e0337bc9c7a/python_socketio-4.5.1-py2.py3-none-any.whl (51kB)\n",
            "\u001b[K     |████████████████████████████████| 61kB 7.6MB/s \n",
            "\u001b[?25hRequirement already satisfied: Werkzeug>=0.15 in /usr/local/lib/python3.6/dist-packages (from Flask~=1.1.1->syft) (1.0.1)\n",
            "Requirement already satisfied: click>=5.1 in /usr/local/lib/python3.6/dist-packages (from Flask~=1.1.1->syft) (7.1.1)\n",
            "Requirement already satisfied: Jinja2>=2.10.1 in /usr/local/lib/python3.6/dist-packages (from Flask~=1.1.1->syft) (2.11.2)\n",
            "Requirement already satisfied: itsdangerous>=0.24 in /usr/local/lib/python3.6/dist-packages (from Flask~=1.1.1->syft) (1.1.0)\n",
            "Collecting protobuf>=3.11.1\n",
            "\u001b[?25l  Downloading https://files.pythonhosted.org/packages/57/02/5432412c162989260fab61fa65e0a490c1872739eb91a659896e4d554b26/protobuf-3.11.3-cp36-cp36m-manylinux1_x86_64.whl (1.3MB)\n",
            "\u001b[K     |████████████████████████████████| 1.3MB 36.8MB/s \n",
            "\u001b[?25hRequirement already satisfied: six in /usr/local/lib/python3.6/dist-packages (from torchvision~=0.5.0->syft) (1.12.0)\n",
            "Collecting python-engineio>=3.9.0\n",
            "\u001b[?25l  Downloading https://files.pythonhosted.org/packages/6c/aa/c975982df73c4bcd087732db14b05306e8a3f3f24596cc18647746539290/python_engineio-3.12.1-py2.py3-none-any.whl (49kB)\n",
            "\u001b[K     |████████████████████████████████| 51kB 7.2MB/s \n",
            "\u001b[?25hRequirement already satisfied: MarkupSafe>=0.23 in /usr/local/lib/python3.6/dist-packages (from Jinja2>=2.10.1->Flask~=1.1.1->syft) (1.1.1)\n",
            "Requirement already satisfied: setuptools in /usr/local/lib/python3.6/dist-packages (from protobuf>=3.11.1->syft-proto~=0.2.5.a1->syft) (46.1.3)\n",
            "Building wheels for collected packages: phe\n",
            "  Building wheel for phe (setup.py) ... \u001b[?25l\u001b[?25hdone\n",
            "  Created wheel for phe: filename=phe-1.4.0-py2.py3-none-any.whl size=37362 sha256=aad22377cc9c9082f10a599146b43d1d3b648d7e8b59dd61299dc869d8a1226e\n",
            "  Stored in directory: /root/.cache/pip/wheels/f8/dc/36/dcb6bf0f1b9907e7b710ace63e64d08e7022340909315fdea4\n",
            "Successfully built phe\n",
            "\u001b[31mERROR: google-colab 1.0.0 has requirement requests~=2.21.0, but you'll have requests 2.22.0 which is incompatible.\u001b[0m\n",
            "\u001b[31mERROR: datascience 0.10.6 has requirement folium==0.2.1, but you'll have folium 0.8.3 which is incompatible.\u001b[0m\n",
            "\u001b[31mERROR: albumentations 0.1.12 has requirement imgaug<0.2.7,>=0.2.5, but you'll have imgaug 0.2.9 which is incompatible.\u001b[0m\n",
            "Installing collected packages: Pillow, requests, python-engineio, python-socketio, flask-socketio, protobuf, syft-proto, torch, torchvision, phe, websockets, websocket-client, lz4, syft\n",
            "  Found existing installation: Pillow 7.0.0\n",
            "    Uninstalling Pillow-7.0.0:\n",
            "      Successfully uninstalled Pillow-7.0.0\n",
            "  Found existing installation: requests 2.21.0\n",
            "    Uninstalling requests-2.21.0:\n",
            "      Successfully uninstalled requests-2.21.0\n",
            "  Found existing installation: protobuf 3.10.0\n",
            "    Uninstalling protobuf-3.10.0:\n",
            "      Successfully uninstalled protobuf-3.10.0\n",
            "  Found existing installation: torch 1.5.0+cu101\n",
            "    Uninstalling torch-1.5.0+cu101:\n",
            "      Successfully uninstalled torch-1.5.0+cu101\n",
            "  Found existing installation: torchvision 0.6.0+cu101\n",
            "    Uninstalling torchvision-0.6.0+cu101:\n",
            "      Successfully uninstalled torchvision-0.6.0+cu101\n",
            "Successfully installed Pillow-6.2.2 flask-socketio-4.2.1 lz4-3.0.2 phe-1.4.0 protobuf-3.11.3 python-engineio-3.12.1 python-socketio-4.5.1 requests-2.22.0 syft-0.2.4 syft-proto-0.2.5a1 torch-1.4.0 torchvision-0.5.0 websocket-client-0.57.0 websockets-8.1\n"
          ],
          "name": "stdout"
        },
        {
          "output_type": "display_data",
          "data": {
            "application/vnd.colab-display-data+json": {
              "pip_warning": {
                "packages": [
                  "PIL",
                  "google",
                  "requests",
                  "torch",
                  "torchvision"
                ]
              }
            }
          },
          "metadata": {
            "tags": []
          }
        }
      ]
    },
    {
      "cell_type": "code",
      "metadata": {
        "id": "sOSQpjXfb6VX",
        "colab_type": "code",
        "colab": {
          "base_uri": "https://localhost:8080/",
          "height": 125
        },
        "outputId": "d4d9032c-350c-47a0-f87a-05876a349dc6"
      },
      "source": [
        "from google.colab import drive\n",
        "drive.mount('/content/drive')"
      ],
      "execution_count": 3,
      "outputs": [
        {
          "output_type": "stream",
          "text": [
            "Go to this URL in a browser: https://accounts.google.com/o/oauth2/auth?client_id=947318989803-6bn6qk8qdgf4n4g3pfee6491hc0brc4i.apps.googleusercontent.com&redirect_uri=urn%3aietf%3awg%3aoauth%3a2.0%3aoob&response_type=code&scope=email%20https%3a%2f%2fwww.googleapis.com%2fauth%2fdocs.test%20https%3a%2f%2fwww.googleapis.com%2fauth%2fdrive%20https%3a%2f%2fwww.googleapis.com%2fauth%2fdrive.photos.readonly%20https%3a%2f%2fwww.googleapis.com%2fauth%2fpeopleapi.readonly\n",
            "\n",
            "Enter your authorization code:\n",
            "··········\n",
            "Mounted at /content/drive\n"
          ],
          "name": "stdout"
        }
      ]
    },
    {
      "cell_type": "code",
      "metadata": {
        "id": "x697LZTXbuSw",
        "colab_type": "code",
        "colab": {}
      },
      "source": [
        "# import our libraries\n",
        "import numpy as np\n",
        "import pandas as pd\n",
        "import torch\n",
        "from torchvision import datasets, transforms\n",
        "from torch.utils.data import Subset, DataLoader\n",
        "from torch import nn, optim\n",
        "import torch.nn.functional as F\n",
        "import time, os\n",
        "import math\n",
        "from syft.frameworks.torch.dp import pate\n"
      ],
      "execution_count": 0,
      "outputs": []
    },
    {
      "cell_type": "markdown",
      "metadata": {
        "id": "0jwIG2YJbuS1",
        "colab_type": "text"
      },
      "source": [
        "### Step 1: Create Teacher and Student Datasets"
      ]
    },
    {
      "cell_type": "code",
      "metadata": {
        "id": "YaoJa_X5buS2",
        "colab_type": "code",
        "colab": {
          "base_uri": "https://localhost:8080/",
          "height": 359,
          "referenced_widgets": [
            "f4bf033e4a994e618f62c39f64abf3ca",
            "c9d6b515a13b43f28cdc359c51004406",
            "ee2527da8a4046e4aa117a210854dd5e",
            "2fa495c24fd24cc69dc92abf91147c91",
            "95f0f4fd8c5d49a5bdde0515c725a492",
            "2eb0ca286829425eaf5b0d9fdff2bcc9",
            "faebf55da52540c19919c05ee91c93e5",
            "94f5a0293d314fb69ce9008bda1e6d56",
            "3ab163fdb75241cb8cbe1ef83eb49c95",
            "70584318e72940b791ba4ec82d3ec372",
            "e48242501aa64cf390d22f98b6f6d588",
            "b67a238c97df43bc80fc0f17a06ebff3",
            "36e2e0c2c03f4563a710231c41f09c39",
            "12f273d0b5054d92ad23b819ee8bc309",
            "2319ffbd33d343009611c253a9b9c058",
            "93ecd8d8b38f453e8296340f2048a431",
            "8ae17eac8c714ec5ba4a6d0da11d54d0",
            "62153c3d52b4434a9392c02ead3477a0",
            "f9e3cc56e4cb41938fc4dd22ea3ead10",
            "7445978697e04d12be897c6eeb1d4a64",
            "c3280a6bc9954a018583ca3db683dd3e",
            "a8de5596ce9e4bae9652dcdac062df83",
            "5966380647f34fdeb2f4c43a3f03d4c0",
            "8d2ba7ed1c2e4819b3a83ba99217ca8f",
            "fed817c3c71b4692bb13134d60c2fe93",
            "6556b2c894094246be69c1c20e42203a",
            "0c885e43946441dabe04a91cbfda954e",
            "bbc6dcb8545443d3975221b3b6785c82",
            "6761e4e4193b469b993e4c40f52dd184",
            "c7be3a4e99a745e9bd56f64e69997a18",
            "7fddf9fb8ff541b292fa402c553cf28f",
            "2277bbbb48db4ec3acd9b614cf528bf4"
          ]
        },
        "outputId": "38be7512-c173-44cb-cff3-a799ae442e41"
      },
      "source": [
        "# Load MNIST dataset\n",
        "\n",
        "data_transforms = transforms.Compose([transforms.ToTensor(),\n",
        "                                      transforms.Normalize((0.5,),(0.5,))\n",
        "                                     ])\n",
        "# train_data = datasets.MNIST(root=’data’, train=True, download=True, transform=transform)\n",
        "\n",
        "trainset = datasets.MNIST(root='data', train=True, transform=data_transforms, download=True)\n",
        "\n",
        "testset = datasets.MNIST(root='data', train=False, transform=data_transforms, download=True)\n",
        "\n"
      ],
      "execution_count": 5,
      "outputs": [
        {
          "output_type": "stream",
          "text": [
            "Downloading http://yann.lecun.com/exdb/mnist/train-images-idx3-ubyte.gz to data/MNIST/raw/train-images-idx3-ubyte.gz\n"
          ],
          "name": "stdout"
        },
        {
          "output_type": "display_data",
          "data": {
            "application/vnd.jupyter.widget-view+json": {
              "model_id": "f4bf033e4a994e618f62c39f64abf3ca",
              "version_minor": 0,
              "version_major": 2
            },
            "text/plain": [
              "HBox(children=(IntProgress(value=1, bar_style='info', max=1), HTML(value='')))"
            ]
          },
          "metadata": {
            "tags": []
          }
        },
        {
          "output_type": "stream",
          "text": [
            "Extracting data/MNIST/raw/train-images-idx3-ubyte.gz to data/MNIST/raw\n",
            "Downloading http://yann.lecun.com/exdb/mnist/train-labels-idx1-ubyte.gz to data/MNIST/raw/train-labels-idx1-ubyte.gz\n"
          ],
          "name": "stdout"
        },
        {
          "output_type": "display_data",
          "data": {
            "application/vnd.jupyter.widget-view+json": {
              "model_id": "3ab163fdb75241cb8cbe1ef83eb49c95",
              "version_minor": 0,
              "version_major": 2
            },
            "text/plain": [
              "HBox(children=(IntProgress(value=1, bar_style='info', max=1), HTML(value='')))"
            ]
          },
          "metadata": {
            "tags": []
          }
        },
        {
          "output_type": "stream",
          "text": [
            "Extracting data/MNIST/raw/train-labels-idx1-ubyte.gz to data/MNIST/raw\n",
            "Downloading http://yann.lecun.com/exdb/mnist/t10k-images-idx3-ubyte.gz to data/MNIST/raw/t10k-images-idx3-ubyte.gz\n"
          ],
          "name": "stdout"
        },
        {
          "output_type": "display_data",
          "data": {
            "application/vnd.jupyter.widget-view+json": {
              "model_id": "8ae17eac8c714ec5ba4a6d0da11d54d0",
              "version_minor": 0,
              "version_major": 2
            },
            "text/plain": [
              "HBox(children=(IntProgress(value=1, bar_style='info', max=1), HTML(value='')))"
            ]
          },
          "metadata": {
            "tags": []
          }
        },
        {
          "output_type": "stream",
          "text": [
            "Extracting data/MNIST/raw/t10k-images-idx3-ubyte.gz to data/MNIST/raw\n",
            "Downloading http://yann.lecun.com/exdb/mnist/t10k-labels-idx1-ubyte.gz to data/MNIST/raw/t10k-labels-idx1-ubyte.gz\n"
          ],
          "name": "stdout"
        },
        {
          "output_type": "display_data",
          "data": {
            "application/vnd.jupyter.widget-view+json": {
              "model_id": "fed817c3c71b4692bb13134d60c2fe93",
              "version_minor": 0,
              "version_major": 2
            },
            "text/plain": [
              "HBox(children=(IntProgress(value=1, bar_style='info', max=1), HTML(value='')))"
            ]
          },
          "metadata": {
            "tags": []
          }
        },
        {
          "output_type": "stream",
          "text": [
            "Extracting data/MNIST/raw/t10k-labels-idx1-ubyte.gz to data/MNIST/raw\n",
            "Processing...\n",
            "Done!\n"
          ],
          "name": "stdout"
        },
        {
          "output_type": "stream",
          "text": [
            "/pytorch/torch/csrc/utils/tensor_numpy.cpp:141: UserWarning: The given NumPy array is not writeable, and PyTorch does not support non-writeable tensors. This means you can write to the underlying (supposedly non-writeable) NumPy array using the tensor. You may want to copy the array to protect its data or make it writeable before converting it to a tensor. This type of warning will be suppressed for the rest of this program.\n"
          ],
          "name": "stderr"
        }
      ]
    },
    {
      "cell_type": "code",
      "metadata": {
        "id": "w3RyJT85buS7",
        "colab_type": "code",
        "colab": {}
      },
      "source": [
        "len(trainset), len(testset)\n",
        "device = torch.device(\"cuda\" if torch.cuda.is_available() else \"cpu\")"
      ],
      "execution_count": 0,
      "outputs": []
    },
    {
      "cell_type": "code",
      "metadata": {
        "id": "vDVQt12ebuS_",
        "colab_type": "code",
        "colab": {
          "base_uri": "https://localhost:8080/",
          "height": 70
        },
        "outputId": "8807202e-26c7-4a47-f6ae-062672a9e02b"
      },
      "source": [
        "# TEACHERS\n",
        "#divide train set between teachers and create dataloaders for valid and trainsets\n",
        "num_teachers = 10\n",
        "valid_per = 0.2 #20% for validation\n",
        "batch_size = 32\n",
        "\n",
        "\n",
        "def teacher_dataloaders(transet=trainset, num_teachers=num_teachers, batch_size=batch_size, valid_per = 0.3):\n",
        "  trainloaders = []\n",
        "  validloaders = []\n",
        "  teacher_data_len = len(trainset) // num_teachers\n",
        "\n",
        "  for i in range(num_teachers):\n",
        "    # get particular subset of data\n",
        "    indice = list(range(i*teacher_data_len, (i+1)*teacher_data_len))\n",
        "    data_subset = Subset(trainset, indice)\n",
        "    # split into train and validation set\n",
        "    valid_size = int(len(data_subset) * valid_per)\n",
        "    train_size = len(data_subset) - valid_size\n",
        "    train_subset, valid_subset = torch.utils.data.random_split(data_subset, [train_size,valid_size])\n",
        "    # print(len(train_subset))\n",
        "    # print(len(valid_subset))\n",
        "\n",
        "    #create data loaders\n",
        "    trainloader = DataLoader(train_subset, batch_size=batch_size, shuffle=True, num_workers=1)\n",
        "    validloader = DataLoader(valid_subset, batch_size=batch_size, shuffle=False, num_workers=1)\n",
        "\n",
        "    #add dataloaders to list\n",
        "    trainloaders.append(trainloader)\n",
        "    validloaders.append(validloader)\n",
        "  \n",
        "  return trainloaders, validloaders\n",
        "\n",
        "trainloaders, validloaders = teacher_dataloaders()\n",
        "len(trainloaders), len(validloaders)"
      ],
      "execution_count": 7,
      "outputs": [
        {
          "output_type": "stream",
          "text": [
            "\n",
            "\n"
          ],
          "name": "stdout"
        },
        {
          "output_type": "execute_result",
          "data": {
            "text/plain": [
              "(10, 10)"
            ]
          },
          "metadata": {
            "tags": []
          },
          "execution_count": 7
        }
      ]
    },
    {
      "cell_type": "code",
      "metadata": {
        "id": "jnR9a5hdbuTC",
        "colab_type": "code",
        "colab": {}
      },
      "source": [
        "#  # STUDENT \n",
        "# split into train and validation set\n",
        "valid_size = int(len(testset) * 0.3)\n",
        "train_size = len(testset) - valid_size\n",
        "student_train_subset, student_valid_subset = torch.utils.data.random_split(testset, [train_size,valid_size])\n",
        "# print(len(train_subset))\n",
        "# print(len(valid_subset))\n",
        "\n",
        "#create data loaders\n",
        "student_trainloader = DataLoader(student_train_subset, batch_size=batch_size, shuffle=False, num_workers=1)\n",
        "student_validloader = DataLoader(student_valid_subset, batch_size=batch_size, shuffle=False, num_workers=1)"
      ],
      "execution_count": 0,
      "outputs": []
    },
    {
      "cell_type": "markdown",
      "metadata": {
        "id": "wgU7Sn3gjf1Z",
        "colab_type": "text"
      },
      "source": [
        "## Step 2: Train Teachers"
      ]
    },
    {
      "cell_type": "code",
      "metadata": {
        "id": "G3GrSyoFj40n",
        "colab_type": "code",
        "colab": {}
      },
      "source": [
        "# define model\n",
        "class Net(nn.Module):\n",
        "  def __init__(self):\n",
        "    super().__init__()\n",
        "\n",
        "    self.fc1 = nn.Linear(784, 256)\n",
        "    self.fc2 = nn.Linear(256, 128)\n",
        "    self.fc3 = nn.Linear(128, 64)\n",
        "    self.fc4 = nn.Linear(64, 10)\n",
        "    self.dropout = nn.Dropout(p=0.4)\n",
        "\n",
        "  def forward(self, x):\n",
        "    x = x.view(x.shape[0], -1)\n",
        "    x = self.fc1(x)\n",
        "    x = self.dropout(F.relu(self.fc2(x)))\n",
        "    x = self.dropout(F.relu(self.fc3(x)))\n",
        "    x = F.log_softmax(self.fc4(x), dim=1)\n",
        "\n",
        "    return x"
      ],
      "execution_count": 0,
      "outputs": []
    },
    {
      "cell_type": "code",
      "metadata": {
        "id": "CFOJuHT_buTI",
        "colab_type": "code",
        "colab": {}
      },
      "source": [
        "# training loop\n",
        "def train(trainloader, validloader, model, optimizer, criterion, epochs, device):\n",
        "  start = time.time()\n",
        "  trainloader = trainloaders[0]\n",
        "  validloader = validloaders[0]\n",
        "  best_loss = math.inf\n",
        "  train_results = []\n",
        "  valid_results = []\n",
        "\n",
        "  for epoch in range(epochs):   \n",
        "    model.train()\n",
        "    running_loss = 0.0\n",
        "    running_corrects = 0\n",
        "    valid_corrects = 0\n",
        "    valid_loss = 0\n",
        "    \n",
        "    for images, labels in trainloader:\n",
        "      images = images.to(device)\n",
        "      labels = labels.to(device)\n",
        "      optimizer.zero_grad()\n",
        "\n",
        "      outputs = model(images)\n",
        "      _, preds = torch.max(outputs, 1)\n",
        "      loss = criterion(outputs, labels)\n",
        "      loss.backward()\n",
        "      optimizer.step()\n",
        "\n",
        "      #running_loss += loss.item()\n",
        "      running_loss += loss.item() * images.size(0)\n",
        "      running_corrects += torch.sum(preds == labels.data)\n",
        "\n",
        "      with torch.no_grad():\n",
        "        model.eval()\n",
        "        for images, labels in validloader:\n",
        "          images = images.to(device)\n",
        "          labels = labels.to(device)\n",
        "\n",
        "          outputs = model(images)\n",
        "          v_loss = criterion(outputs, labels)\n",
        "\n",
        "          valid_loss += loss.item() * images.size(0)\n",
        "          ps = torch.exp(outputs)\n",
        "          top_p, top_class = ps.topk(1, dim=1)\n",
        "          equals = top_class == labels.view(*top_class.shape)\n",
        "          valid_corrects += torch.mean(equals.type(torch.FloatTensor))\n",
        "\n",
        "      #   # if(valid_loss < best_loss):\n",
        "      #   #   best_loss = valid_loss\n",
        "      \n",
        "        train_loss = running_loss / len(trainloader)\n",
        "        train_acc = running_corrects.double() / len(trainloader)\n",
        "        train_results.append([train_loss,train_acc])\n",
        "\n",
        "        valid_losss = valid_loss / len(validloader)\n",
        "        valid_acc = valid_corrects / len(validloader)\n",
        "        valid_results.append([valid_losss,valid_acc])\n",
        "\n",
        "    print(\"Epoch: {}/{}\".format(epoch, epochs))\n",
        "    print('\\tTrain Loss: {:.4f} Train Acc: {:.4f}'.format(train_loss, train_acc))\n",
        "    print('\\tValid Loss: {:.4f} Valid Acc: {:.4f}'.format(valid_losss, valid_acc))\n",
        "  return model\n",
        "  # return model, train_results, valid_results"
      ],
      "execution_count": 0,
      "outputs": []
    },
    {
      "cell_type": "code",
      "metadata": {
        "id": "lA6uZB7_m4qw",
        "colab_type": "code",
        "colab": {}
      },
      "source": [
        "model = Net()\n",
        "#model.to(device)\n",
        "criterion = nn.NLLLoss()\n",
        "optimizer = optim.Adam(model.parameters() , lr=0.001)\n",
        "epochs = 10\n",
        "\n",
        "#train(trainloaders, validloaders, model, optimizer, criterion, epochs, device)"
      ],
      "execution_count": 0,
      "outputs": []
    },
    {
      "cell_type": "code",
      "metadata": {
        "id": "SdYsYzDaSpIm",
        "colab_type": "code",
        "colab": {}
      },
      "source": [
        "\n",
        "# method for training\n",
        "def train(model, criterion, optimizer, trainloader, validloader, epochs=10):\n",
        "  model = model\n",
        "  criterion = criterion\n",
        "  optimizer = optimizer\n",
        "  epochs = epochs\n",
        "\n",
        "  train_losses, valid_losses = [], []\n",
        "  for e in range(epochs):\n",
        "    running_loss = 0\n",
        "    for inputs, labels in trainloader:\n",
        "\n",
        "      optimizer.zero_grad()\n",
        "\n",
        "      log_ps = model(inputs)\n",
        "      loss = criterion(log_ps, labels)\n",
        "      loss.backward()\n",
        "      optimizer.step()\n",
        "\n",
        "      running_loss += loss.item()\n",
        "  \n",
        "    else:\n",
        "      valid_loss = 0\n",
        "      acc = 0\n",
        "\n",
        "      # turn off gradients for validation, saving memory and computations\n",
        "      with torch.no_grad():\n",
        "        model.eval()\n",
        "        for inputs, labels in validloader:\n",
        "\n",
        "          log_ps = model(inputs)\n",
        "          valid_loss += criterion(log_ps, labels)\n",
        "\n",
        "          ps = torch.exp(log_ps)\n",
        "          top_p, top_class = ps.topk(1, dim=1)\n",
        "          equals = top_class == labels.view(*top_class.shape)\n",
        "          acc += torch.mean(equals.type(torch.FloatTensor))\n",
        "\n",
        "      model.train()\n",
        "      train_losses.append(running_loss / len(trainloader))\n",
        "      valid_losses.append(valid_loss / len(validloader))\n",
        "\n",
        "      print('Epoch: {}/{}.. '.format(e+1, epochs),\n",
        "            'Training Loss: {:.3f}.. '.format(running_loss / len(trainloader)),\n",
        "            'Valid Loss: {:.3f}.. '.format(valid_loss / len(validloader)),\n",
        "            'Valid Accuracy: {:.3f} '.format(acc / len(validloader)),\n",
        "            '')\n",
        "  return model"
      ],
      "execution_count": 0,
      "outputs": []
    },
    {
      "cell_type": "code",
      "metadata": {
        "id": "mkKBJOKFx4oS",
        "colab_type": "code",
        "colab": {
          "base_uri": "https://localhost:8080/",
          "height": 1000
        },
        "outputId": "f5b2c8e6-9588-4aa8-c895-a37fb9e9592d"
      },
      "source": [
        "teacher_models = []\n",
        "i = 1\n",
        "for trainloader, validloader in zip(trainloaders, validloaders):\n",
        "  print(\" Training Teacher {}\".format(i))\n",
        "  #teacher_model = train(trainloaders, validloaders, model, optimizer, criterion, epochs, device)\n",
        "  teacher_model = train(model, criterion, optimizer, trainloader, validloader)\n",
        "  teacher_models.append(teacher_model)\n",
        "  i+=1\n",
        "  print(\"======================================================\")"
      ],
      "execution_count": 13,
      "outputs": [
        {
          "output_type": "stream",
          "text": [
            " Training Teacher 1\n",
            "Epoch: 1/10..  Training Loss: 1.449..  Valid Loss: 0.532..  Valid Accuracy: 0.843  \n",
            "Epoch: 2/10..  Training Loss: 0.671..  Valid Loss: 0.366..  Valid Accuracy: 0.895  \n",
            "Epoch: 3/10..  Training Loss: 0.556..  Valid Loss: 0.422..  Valid Accuracy: 0.869  \n",
            "Epoch: 4/10..  Training Loss: 0.468..  Valid Loss: 0.308..  Valid Accuracy: 0.905  \n",
            "Epoch: 5/10..  Training Loss: 0.411..  Valid Loss: 0.287..  Valid Accuracy: 0.918  \n",
            "Epoch: 6/10..  Training Loss: 0.360..  Valid Loss: 0.321..  Valid Accuracy: 0.905  \n",
            "Epoch: 7/10..  Training Loss: 0.388..  Valid Loss: 0.360..  Valid Accuracy: 0.899  \n",
            "Epoch: 8/10..  Training Loss: 0.336..  Valid Loss: 0.259..  Valid Accuracy: 0.928  \n",
            "Epoch: 9/10..  Training Loss: 0.306..  Valid Loss: 0.275..  Valid Accuracy: 0.922  \n",
            "Epoch: 10/10..  Training Loss: 0.278..  Valid Loss: 0.250..  Valid Accuracy: 0.931  \n",
            "======================================================\n",
            " Training Teacher 2\n",
            "Epoch: 1/10..  Training Loss: 0.469..  Valid Loss: 0.289..  Valid Accuracy: 0.901  \n",
            "Epoch: 2/10..  Training Loss: 0.404..  Valid Loss: 0.301..  Valid Accuracy: 0.905  \n",
            "Epoch: 3/10..  Training Loss: 0.366..  Valid Loss: 0.330..  Valid Accuracy: 0.898  \n",
            "Epoch: 4/10..  Training Loss: 0.342..  Valid Loss: 0.240..  Valid Accuracy: 0.927  \n",
            "Epoch: 5/10..  Training Loss: 0.334..  Valid Loss: 0.255..  Valid Accuracy: 0.922  \n",
            "Epoch: 6/10..  Training Loss: 0.301..  Valid Loss: 0.219..  Valid Accuracy: 0.936  \n",
            "Epoch: 7/10..  Training Loss: 0.256..  Valid Loss: 0.267..  Valid Accuracy: 0.923  \n",
            "Epoch: 8/10..  Training Loss: 0.273..  Valid Loss: 0.271..  Valid Accuracy: 0.913  \n",
            "Epoch: 9/10..  Training Loss: 0.250..  Valid Loss: 0.279..  Valid Accuracy: 0.928  \n",
            "Epoch: 10/10..  Training Loss: 0.260..  Valid Loss: 0.270..  Valid Accuracy: 0.928  \n",
            "======================================================\n",
            " Training Teacher 3\n",
            "Epoch: 1/10..  Training Loss: 0.458..  Valid Loss: 0.335..  Valid Accuracy: 0.899  \n",
            "Epoch: 2/10..  Training Loss: 0.402..  Valid Loss: 0.296..  Valid Accuracy: 0.908  \n",
            "Epoch: 3/10..  Training Loss: 0.325..  Valid Loss: 0.262..  Valid Accuracy: 0.919  \n",
            "Epoch: 4/10..  Training Loss: 0.314..  Valid Loss: 0.292..  Valid Accuracy: 0.913  \n",
            "Epoch: 5/10..  Training Loss: 0.331..  Valid Loss: 0.266..  Valid Accuracy: 0.920  \n",
            "Epoch: 6/10..  Training Loss: 0.298..  Valid Loss: 0.259..  Valid Accuracy: 0.925  \n",
            "Epoch: 7/10..  Training Loss: 0.268..  Valid Loss: 0.253..  Valid Accuracy: 0.924  \n",
            "Epoch: 8/10..  Training Loss: 0.291..  Valid Loss: 0.273..  Valid Accuracy: 0.921  \n",
            "Epoch: 9/10..  Training Loss: 0.273..  Valid Loss: 0.251..  Valid Accuracy: 0.926  \n",
            "Epoch: 10/10..  Training Loss: 0.266..  Valid Loss: 0.268..  Valid Accuracy: 0.921  \n",
            "======================================================\n",
            " Training Teacher 4\n",
            "Epoch: 1/10..  Training Loss: 0.369..  Valid Loss: 0.247..  Valid Accuracy: 0.930  \n",
            "Epoch: 2/10..  Training Loss: 0.303..  Valid Loss: 0.238..  Valid Accuracy: 0.939  \n",
            "Epoch: 3/10..  Training Loss: 0.259..  Valid Loss: 0.247..  Valid Accuracy: 0.934  \n",
            "Epoch: 4/10..  Training Loss: 0.265..  Valid Loss: 0.309..  Valid Accuracy: 0.916  \n",
            "Epoch: 5/10..  Training Loss: 0.268..  Valid Loss: 0.218..  Valid Accuracy: 0.944  \n",
            "Epoch: 6/10..  Training Loss: 0.214..  Valid Loss: 0.224..  Valid Accuracy: 0.940  \n",
            "Epoch: 7/10..  Training Loss: 0.233..  Valid Loss: 0.222..  Valid Accuracy: 0.941  \n",
            "Epoch: 8/10..  Training Loss: 0.197..  Valid Loss: 0.199..  Valid Accuracy: 0.945  \n",
            "Epoch: 9/10..  Training Loss: 0.208..  Valid Loss: 0.220..  Valid Accuracy: 0.944  \n",
            "Epoch: 10/10..  Training Loss: 0.208..  Valid Loss: 0.206..  Valid Accuracy: 0.946  \n",
            "======================================================\n",
            " Training Teacher 5\n",
            "Epoch: 1/10..  Training Loss: 0.392..  Valid Loss: 0.289..  Valid Accuracy: 0.911  \n",
            "Epoch: 2/10..  Training Loss: 0.340..  Valid Loss: 0.250..  Valid Accuracy: 0.927  \n",
            "Epoch: 3/10..  Training Loss: 0.300..  Valid Loss: 0.253..  Valid Accuracy: 0.922  \n",
            "Epoch: 4/10..  Training Loss: 0.282..  Valid Loss: 0.229..  Valid Accuracy: 0.931  \n",
            "Epoch: 5/10..  Training Loss: 0.263..  Valid Loss: 0.237..  Valid Accuracy: 0.925  \n",
            "Epoch: 6/10..  Training Loss: 0.254..  Valid Loss: 0.301..  Valid Accuracy: 0.914  \n",
            "Epoch: 7/10..  Training Loss: 0.234..  Valid Loss: 0.314..  Valid Accuracy: 0.916  \n",
            "Epoch: 8/10..  Training Loss: 0.225..  Valid Loss: 0.237..  Valid Accuracy: 0.928  \n",
            "Epoch: 9/10..  Training Loss: 0.212..  Valid Loss: 0.251..  Valid Accuracy: 0.930  \n",
            "Epoch: 10/10..  Training Loss: 0.192..  Valid Loss: 0.257..  Valid Accuracy: 0.926  \n",
            "======================================================\n",
            " Training Teacher 6\n",
            "Epoch: 1/10..  Training Loss: 0.366..  Valid Loss: 0.260..  Valid Accuracy: 0.927  \n",
            "Epoch: 2/10..  Training Loss: 0.306..  Valid Loss: 0.260..  Valid Accuracy: 0.930  \n",
            "Epoch: 3/10..  Training Loss: 0.281..  Valid Loss: 0.231..  Valid Accuracy: 0.934  \n",
            "Epoch: 4/10..  Training Loss: 0.209..  Valid Loss: 0.261..  Valid Accuracy: 0.929  \n",
            "Epoch: 5/10..  Training Loss: 0.230..  Valid Loss: 0.264..  Valid Accuracy: 0.923  \n",
            "Epoch: 6/10..  Training Loss: 0.215..  Valid Loss: 0.245..  Valid Accuracy: 0.929  \n",
            "Epoch: 7/10..  Training Loss: 0.207..  Valid Loss: 0.249..  Valid Accuracy: 0.929  \n",
            "Epoch: 8/10..  Training Loss: 0.217..  Valid Loss: 0.235..  Valid Accuracy: 0.935  \n",
            "Epoch: 9/10..  Training Loss: 0.185..  Valid Loss: 0.264..  Valid Accuracy: 0.937  \n",
            "Epoch: 10/10..  Training Loss: 0.192..  Valid Loss: 0.231..  Valid Accuracy: 0.942  \n",
            "======================================================\n",
            " Training Teacher 7\n",
            "Epoch: 1/10..  Training Loss: 0.413..  Valid Loss: 0.244..  Valid Accuracy: 0.926  \n",
            "Epoch: 2/10..  Training Loss: 0.346..  Valid Loss: 0.218..  Valid Accuracy: 0.941  \n",
            "Epoch: 3/10..  Training Loss: 0.299..  Valid Loss: 0.194..  Valid Accuracy: 0.942  \n",
            "Epoch: 4/10..  Training Loss: 0.269..  Valid Loss: 0.218..  Valid Accuracy: 0.934  \n",
            "Epoch: 5/10..  Training Loss: 0.272..  Valid Loss: 0.204..  Valid Accuracy: 0.945  \n",
            "Epoch: 6/10..  Training Loss: 0.244..  Valid Loss: 0.231..  Valid Accuracy: 0.937  \n",
            "Epoch: 7/10..  Training Loss: 0.224..  Valid Loss: 0.222..  Valid Accuracy: 0.931  \n",
            "Epoch: 8/10..  Training Loss: 0.221..  Valid Loss: 0.211..  Valid Accuracy: 0.941  \n",
            "Epoch: 9/10..  Training Loss: 0.204..  Valid Loss: 0.228..  Valid Accuracy: 0.940  \n",
            "Epoch: 10/10..  Training Loss: 0.256..  Valid Loss: 0.219..  Valid Accuracy: 0.936  \n",
            "======================================================\n",
            " Training Teacher 8\n",
            "Epoch: 1/10..  Training Loss: 0.338..  Valid Loss: 0.236..  Valid Accuracy: 0.923  \n",
            "Epoch: 2/10..  Training Loss: 0.265..  Valid Loss: 0.229..  Valid Accuracy: 0.936  \n",
            "Epoch: 3/10..  Training Loss: 0.264..  Valid Loss: 0.224..  Valid Accuracy: 0.938  \n",
            "Epoch: 4/10..  Training Loss: 0.251..  Valid Loss: 0.248..  Valid Accuracy: 0.938  \n",
            "Epoch: 5/10..  Training Loss: 0.236..  Valid Loss: 0.250..  Valid Accuracy: 0.935  \n",
            "Epoch: 6/10..  Training Loss: 0.212..  Valid Loss: 0.241..  Valid Accuracy: 0.939  \n",
            "Epoch: 7/10..  Training Loss: 0.215..  Valid Loss: 0.222..  Valid Accuracy: 0.941  \n",
            "Epoch: 8/10..  Training Loss: 0.209..  Valid Loss: 0.226..  Valid Accuracy: 0.940  \n",
            "Epoch: 9/10..  Training Loss: 0.185..  Valid Loss: 0.282..  Valid Accuracy: 0.921  \n",
            "Epoch: 10/10..  Training Loss: 0.201..  Valid Loss: 0.247..  Valid Accuracy: 0.944  \n",
            "======================================================\n",
            " Training Teacher 9\n",
            "Epoch: 1/10..  Training Loss: 0.351..  Valid Loss: 0.218..  Valid Accuracy: 0.937  \n",
            "Epoch: 2/10..  Training Loss: 0.303..  Valid Loss: 0.204..  Valid Accuracy: 0.933  \n",
            "Epoch: 3/10..  Training Loss: 0.287..  Valid Loss: 0.211..  Valid Accuracy: 0.940  \n",
            "Epoch: 4/10..  Training Loss: 0.246..  Valid Loss: 0.189..  Valid Accuracy: 0.948  \n",
            "Epoch: 5/10..  Training Loss: 0.235..  Valid Loss: 0.209..  Valid Accuracy: 0.931  \n",
            "Epoch: 6/10..  Training Loss: 0.236..  Valid Loss: 0.168..  Valid Accuracy: 0.952  \n",
            "Epoch: 7/10..  Training Loss: 0.223..  Valid Loss: 0.179..  Valid Accuracy: 0.941  \n",
            "Epoch: 8/10..  Training Loss: 0.203..  Valid Loss: 0.196..  Valid Accuracy: 0.939  \n",
            "Epoch: 9/10..  Training Loss: 0.195..  Valid Loss: 0.169..  Valid Accuracy: 0.952  \n",
            "Epoch: 10/10..  Training Loss: 0.208..  Valid Loss: 0.189..  Valid Accuracy: 0.945  \n",
            "======================================================\n",
            " Training Teacher 10\n",
            "Epoch: 1/10..  Training Loss: 0.330..  Valid Loss: 0.131..  Valid Accuracy: 0.957  \n",
            "Epoch: 2/10..  Training Loss: 0.222..  Valid Loss: 0.131..  Valid Accuracy: 0.958  \n",
            "Epoch: 3/10..  Training Loss: 0.206..  Valid Loss: 0.134..  Valid Accuracy: 0.958  \n",
            "Epoch: 4/10..  Training Loss: 0.171..  Valid Loss: 0.116..  Valid Accuracy: 0.963  \n",
            "Epoch: 5/10..  Training Loss: 0.170..  Valid Loss: 0.136..  Valid Accuracy: 0.959  \n",
            "Epoch: 6/10..  Training Loss: 0.163..  Valid Loss: 0.177..  Valid Accuracy: 0.953  \n",
            "Epoch: 7/10..  Training Loss: 0.166..  Valid Loss: 0.131..  Valid Accuracy: 0.961  \n",
            "Epoch: 8/10..  Training Loss: 0.166..  Valid Loss: 0.124..  Valid Accuracy: 0.962  \n",
            "Epoch: 9/10..  Training Loss: 0.162..  Valid Loss: 0.146..  Valid Accuracy: 0.960  \n",
            "Epoch: 10/10..  Training Loss: 0.181..  Valid Loss: 0.119..  Valid Accuracy: 0.964  \n",
            "======================================================\n"
          ],
          "name": "stdout"
        }
      ]
    },
    {
      "cell_type": "markdown",
      "metadata": {
        "id": "aNCxZEsMkAQ2",
        "colab_type": "text"
      },
      "source": [
        "## Step 3: Get Private Student Labels "
      ]
    },
    {
      "cell_type": "code",
      "metadata": {
        "id": "xx5ZjFHkkFWJ",
        "colab_type": "code",
        "colab": {
          "base_uri": "https://localhost:8080/",
          "height": 52
        },
        "outputId": "1d33ef4a-9ce1-424d-ee6b-124cd9c00043"
      },
      "source": [
        "# get private labels\n",
        "def student_train_labels(teacher_models, dataloader):\n",
        "  student_labels = []\n",
        "  # get label for each teacher\n",
        "  for model in teacher_models:\n",
        "    student_label = []\n",
        "    for images,_ in dataloader:\n",
        "      with torch.no_grad():\n",
        "        outputs = model(images)\n",
        "        preds = torch.argmax(torch.exp(outputs), dim=1)\n",
        "      student_label.append(preds.tolist())\n",
        "    # add all teacher predictions to student_labels  \n",
        "    student_label = sum(student_label, [])\n",
        "    student_labels.append(student_label)\n",
        "  return student_labels\n",
        "\n",
        "predicted_labels = student_train_labels(teacher_models, student_trainloader)     \n",
        "predicted_labels = np.array([np.array(p) for p in predicted_labels]).transpose(1, 0)\n",
        "# We see here that we have 10 labels for each of image in our dataset\n",
        "print(predicted_labels.shape)\n",
        "predicted_labels[0]"
      ],
      "execution_count": 14,
      "outputs": [
        {
          "output_type": "stream",
          "text": [
            "(7000, 10)\n"
          ],
          "name": "stdout"
        },
        {
          "output_type": "execute_result",
          "data": {
            "text/plain": [
              "array([8, 8, 8, 2, 2, 6, 2, 5, 7, 5])"
            ]
          },
          "metadata": {
            "tags": []
          },
          "execution_count": 14
        }
      ]
    },
    {
      "cell_type": "code",
      "metadata": {
        "id": "xBQKOh94Umeu",
        "colab_type": "code",
        "colab": {}
      },
      "source": [
        "# labels = predicted_labels[1]\n",
        "# counts = np.bincount(labels, minlength=10)\n",
        "# query_result = np.argmax(counts)\n",
        "# query_result"
      ],
      "execution_count": 0,
      "outputs": []
    },
    {
      "cell_type": "markdown",
      "metadata": {
        "id": "_F99Sr27kGHu",
        "colab_type": "text"
      },
      "source": [
        "## Step 4: Add Laplacian Noise"
      ]
    },
    {
      "cell_type": "code",
      "metadata": {
        "id": "x-WP1kABkJ0h",
        "colab_type": "code",
        "colab": {}
      },
      "source": [
        "# Get private labels with the most votes count and add noise them\n",
        "def add_noise(predicted_labels, epsilon=0.1):\n",
        "  noisy_labels = []\n",
        "  for preds in predicted_labels:\n",
        "    # print(preds.shape[0])\n",
        "    # get labels with max votes\n",
        "    counts = np.bincount(preds, minlength=preds.shape[0])\n",
        "    # add laplacian noise to label\n",
        "    epsilon = epsilon\n",
        "    beta = 1/epsilon\n",
        "    for i in range(len(counts)):\n",
        "      counts[i] += np.random.laplace(0, beta, 1)\n",
        "    \n",
        "    # after adding noise we get labels with max counts\n",
        "    new_label = np.argmax(counts)\n",
        "    noisy_labels.append(new_label)\n",
        "  return np.array(noisy_labels)\n",
        "  "
      ],
      "execution_count": 0,
      "outputs": []
    },
    {
      "cell_type": "code",
      "metadata": {
        "id": "Qj1MUzf6bMx6",
        "colab_type": "code",
        "colab": {
          "base_uri": "https://localhost:8080/",
          "height": 35
        },
        "outputId": "29bd0635-ec51-4780-d445-4907a4d6dee8"
      },
      "source": [
        "labels_with_noise = add_noise(predicted_labels, epsilon=0.1)\n",
        "print(labels_with_noise)"
      ],
      "execution_count": 17,
      "outputs": [
        {
          "output_type": "stream",
          "text": [
            "[8 0 6 ... 9 6 9]\n"
          ],
          "name": "stdout"
        }
      ]
    },
    {
      "cell_type": "markdown",
      "metadata": {
        "id": "tZlYVrfZkfF7",
        "colab_type": "text"
      },
      "source": [
        "## Step 5 Peform PATE Analysis"
      ]
    },
    {
      "cell_type": "code",
      "metadata": {
        "id": "Pj8M4w0GkY5F",
        "colab_type": "code",
        "colab": {}
      },
      "source": [
        ""
      ],
      "execution_count": 0,
      "outputs": []
    },
    {
      "cell_type": "markdown",
      "metadata": {
        "id": "fhh3PjvPkLgm",
        "colab_type": "text"
      },
      "source": [
        "## Step 6: Train **Student**"
      ]
    },
    {
      "cell_type": "code",
      "metadata": {
        "id": "hqgDXzDYkPYh",
        "colab_type": "code",
        "colab": {
          "base_uri": "https://localhost:8080/",
          "height": 35
        },
        "outputId": "c8e6d70d-0217-429a-eff3-ad53755b254c"
      },
      "source": [
        "# We have to create a new training dataloader for the student with the newly created \n",
        "# labels with noise. We have to replace the old labels with the new labels\n",
        "\n",
        "def new_student_data_loader(dataloader, noisy_labels, batch_size=32):\n",
        "  image_list = []\n",
        "  for image,_ in dataloader:\n",
        "    image_list.append(image)\n",
        "    \n",
        "  data = np.vstack(image_list)\n",
        "  new_dataset = list(zip(data, noisy_labels))\n",
        "  new_dataloader = DataLoader(new_dataset, batch_size, shuffle=False)\n",
        "\n",
        "  return new_dataloader\n",
        "\n",
        "labeled_student_trainloader = new_student_data_loader(student_trainloader, labels_with_noise,32)\n",
        "len(labeled_student_trainloader)\n",
        "# student_trainloader = DataLoader(student_train_subset, batch_size=batch_size, shuffle=True, num_workers=1)\n",
        "# student_validloader = DataLoader(student_valid_subset, batch_size=batch_size, shuffle=False, num_workers=1)\n",
        "\n"
      ],
      "execution_count": 22,
      "outputs": [
        {
          "output_type": "execute_result",
          "data": {
            "text/plain": [
              "219"
            ]
          },
          "metadata": {
            "tags": []
          },
          "execution_count": 22
        }
      ]
    },
    {
      "cell_type": "code",
      "metadata": {
        "id": "_lPctEDyVhEG",
        "colab_type": "code",
        "colab": {
          "base_uri": "https://localhost:8080/",
          "height": 194
        },
        "outputId": "0c078b12-70b4-452c-f8c0-f090f31b6f36"
      },
      "source": [
        "# Now we train the model\n",
        "# We use the newly labeled trainloader for training and use the validloader data to evaluate the performance of our model\n",
        "student_model = train(model, criterion, optimizer, labeled_student_trainloader, student_validloader)\n",
        "\n"
      ],
      "execution_count": 25,
      "outputs": [
        {
          "output_type": "stream",
          "text": [
            "Epoch: 1/10..  Training Loss: 2.304..  Valid Loss: 2.303..  Valid Accuracy: 0.097  \n",
            "Epoch: 2/10..  Training Loss: 2.303..  Valid Loss: 2.304..  Valid Accuracy: 0.097  \n",
            "Epoch: 3/10..  Training Loss: 2.303..  Valid Loss: 2.304..  Valid Accuracy: 0.097  \n",
            "Epoch: 4/10..  Training Loss: 2.303..  Valid Loss: 2.304..  Valid Accuracy: 0.097  \n",
            "Epoch: 5/10..  Training Loss: 2.303..  Valid Loss: 2.304..  Valid Accuracy: 0.097  \n",
            "Epoch: 6/10..  Training Loss: 2.301..  Valid Loss: 2.304..  Valid Accuracy: 0.097  \n",
            "Epoch: 7/10..  Training Loss: 2.302..  Valid Loss: 2.304..  Valid Accuracy: 0.097  \n",
            "Epoch: 8/10..  Training Loss: 2.302..  Valid Loss: 2.304..  Valid Accuracy: 0.097  \n",
            "Epoch: 9/10..  Training Loss: 2.303..  Valid Loss: 2.304..  Valid Accuracy: 0.101  \n",
            "Epoch: 10/10..  Training Loss: 2.303..  Valid Loss: 2.304..  Valid Accuracy: 0.101  \n"
          ],
          "name": "stdout"
        }
      ]
    },
    {
      "cell_type": "code",
      "metadata": {
        "id": "nKrztrlqVhLP",
        "colab_type": "code",
        "colab": {}
      },
      "source": [
        ""
      ],
      "execution_count": 0,
      "outputs": []
    },
    {
      "cell_type": "markdown",
      "metadata": {
        "id": "GFK7rHBLklXw",
        "colab_type": "text"
      },
      "source": [
        "# TRAIN MNIST NORMALLY"
      ]
    },
    {
      "cell_type": "markdown",
      "metadata": {
        "id": "BKXwjzJhkU-k",
        "colab_type": "text"
      },
      "source": [
        ""
      ]
    }
  ]
}